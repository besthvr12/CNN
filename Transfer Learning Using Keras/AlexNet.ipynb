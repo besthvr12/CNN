{
  "nbformat": 4,
  "nbformat_minor": 0,
  "metadata": {
    "colab": {
      "name": "AlexNet.ipynb",
      "provenance": []
    },
    "kernelspec": {
      "name": "python3",
      "display_name": "Python 3"
    },
    "accelerator": "GPU"
  },
  "cells": [
    {
      "cell_type": "code",
      "metadata": {
        "id": "COObz2M8FINE",
        "colab_type": "code",
        "colab": {
          "base_uri": "https://localhost:8080/",
          "height": 301
        },
        "outputId": "e45e96fe-760b-40c0-8a01-7d5b606a1004"
      },
      "source": [
        "import pandas as pd\n",
        "import numpy as np \n",
        "import matplotlib.pyplot as plt\n",
        "import os\n",
        "\n",
        "%matplotlib inline\n",
        "\n",
        "import keras\n",
        "from keras.utils import np_utils\n",
        "from keras import applications\n",
        "from keras.preprocessing.image import ImageDataGenerator \n",
        "from keras import optimizers\n",
        "from keras.models import Sequential,Model,load_model\n",
        "from keras.layers import Dense, Dropout, Flatten, Conv2D, MaxPool2D,GlobalAveragePooling2D,MaxPooling2D\n",
        "from keras.callbacks import TensorBoard,ReduceLROnPlateau,ModelCheckpoint\n",
        "\n",
        "from keras import backend as k \n",
        "from keras.callbacks import ModelCheckpoint, LearningRateScheduler, TensorBoard, EarlyStopping\n",
        "import tflearn\n",
        "import tensorflow as tf\n",
        "np.random.seed(1000)\n",
        "from keras.optimizers import Adam,SGD,Adagrad,Adadelta,RMSprop\n",
        "from keras.utils import to_categorical"
      ],
      "execution_count": 1,
      "outputs": [
        {
          "output_type": "stream",
          "text": [
            "Using TensorFlow backend.\n"
          ],
          "name": "stderr"
        },
        {
          "output_type": "display_data",
          "data": {
            "text/html": [
              "<p style=\"color: red;\">\n",
              "The default version of TensorFlow in Colab will soon switch to TensorFlow 2.x.<br>\n",
              "We recommend you <a href=\"https://www.tensorflow.org/guide/migrate\" target=\"_blank\">upgrade</a> now \n",
              "or ensure your notebook will continue to use TensorFlow 1.x via the <code>%tensorflow_version 1.x</code> magic:\n",
              "<a href=\"https://colab.research.google.com/notebooks/tensorflow_version.ipynb\" target=\"_blank\">more info</a>.</p>\n"
            ],
            "text/plain": [
              "<IPython.core.display.HTML object>"
            ]
          },
          "metadata": {
            "tags": []
          }
        },
        {
          "output_type": "stream",
          "text": [
            "WARNING:tensorflow:From /usr/local/lib/python3.6/dist-packages/tflearn/helpers/summarizer.py:9: The name tf.summary.merge is deprecated. Please use tf.compat.v1.summary.merge instead.\n",
            "\n",
            "WARNING:tensorflow:From /usr/local/lib/python3.6/dist-packages/tflearn/helpers/trainer.py:25: The name tf.summary.FileWriter is deprecated. Please use tf.compat.v1.summary.FileWriter instead.\n",
            "\n",
            "WARNING:tensorflow:From /usr/local/lib/python3.6/dist-packages/tflearn/collections.py:13: The name tf.GraphKeys is deprecated. Please use tf.compat.v1.GraphKeys instead.\n",
            "\n",
            "WARNING:tensorflow:From /usr/local/lib/python3.6/dist-packages/tflearn/config.py:123: The name tf.get_collection is deprecated. Please use tf.compat.v1.get_collection instead.\n",
            "\n",
            "WARNING:tensorflow:From /usr/local/lib/python3.6/dist-packages/tflearn/config.py:129: The name tf.add_to_collection is deprecated. Please use tf.compat.v1.add_to_collection instead.\n",
            "\n",
            "WARNING:tensorflow:From /usr/local/lib/python3.6/dist-packages/tflearn/config.py:131: The name tf.assign is deprecated. Please use tf.compat.v1.assign instead.\n",
            "\n"
          ],
          "name": "stdout"
        }
      ]
    },
    {
      "cell_type": "code",
      "metadata": {
        "id": "qg6Pl0O1FNfJ",
        "colab_type": "code",
        "colab": {
          "base_uri": "https://localhost:8080/",
          "height": 121
        },
        "outputId": "121b355b-0b4d-46ae-d40a-9beb73f22ce8"
      },
      "source": [
        "GOOGLE_COLAB = True\n",
        "path = \"\"\n",
        "if GOOGLE_COLAB:\n",
        "    from google.colab import drive, files\n",
        "    drive.mount('/content/drive/')\n",
        "    path = \"/content/drive/My Drive/dogsvscats/\"\n",
        "training_data_dir = path + \"train\" \n",
        "\n",
        "\n",
        "test_data_dir = path + \"test\" "
      ],
      "execution_count": 2,
      "outputs": [
        {
          "output_type": "stream",
          "text": [
            "Go to this URL in a browser: https://accounts.google.com/o/oauth2/auth?client_id=947318989803-6bn6qk8qdgf4n4g3pfee6491hc0brc4i.apps.googleusercontent.com&redirect_uri=urn%3aietf%3awg%3aoauth%3a2.0%3aoob&response_type=code&scope=email%20https%3a%2f%2fwww.googleapis.com%2fauth%2fdocs.test%20https%3a%2f%2fwww.googleapis.com%2fauth%2fdrive%20https%3a%2f%2fwww.googleapis.com%2fauth%2fdrive.photos.readonly%20https%3a%2f%2fwww.googleapis.com%2fauth%2fpeopleapi.readonly\n",
            "\n",
            "Enter your authorization code:\n",
            "··········\n",
            "Mounted at /content/drive/\n"
          ],
          "name": "stdout"
        }
      ]
    },
    {
      "cell_type": "code",
      "metadata": {
        "id": "WKbzx6HGFPXC",
        "colab_type": "code",
        "colab": {}
      },
      "source": [
        "# Initiate the train and test generators with data Augumentation \n",
        "train_datagen = ImageDataGenerator(\n",
        "rescale = 1./255,\n",
        "horizontal_flip = True,\n",
        "fill_mode = \"nearest\",\n",
        "zoom_range = 0.3,\n",
        "width_shift_range = 0.3,\n",
        "height_shift_range=0.3,\n",
        "rotation_range=30)\n",
        "\n",
        "test_datagen = ImageDataGenerator(\n",
        "rescale = 1./255,\n",
        "horizontal_flip = True,\n",
        "fill_mode = \"nearest\",\n",
        "zoom_range = 0.3,\n",
        "width_shift_range = 0.3,\n",
        "height_shift_range=0.3,\n",
        "rotation_range=30)"
      ],
      "execution_count": 0,
      "outputs": []
    },
    {
      "cell_type": "code",
      "metadata": {
        "id": "vWbHFPVMFSaO",
        "colab_type": "code",
        "colab": {
          "base_uri": "https://localhost:8080/",
          "height": 50
        },
        "outputId": "a2df5c2b-7d66-4e6d-a096-291588369a6c"
      },
      "source": [
        "train_generator = train_datagen.flow_from_directory(\n",
        "training_data_dir,\n",
        "target_size = (227,227),\n",
        "batch_size = 10, \n",
        "class_mode = \"categorical\")\n",
        "\n",
        "validation_generator = test_datagen.flow_from_directory(\n",
        "test_data_dir,\n",
        "target_size = (227, 227),\n",
        "class_mode = \"categorical\")"
      ],
      "execution_count": 4,
      "outputs": [
        {
          "output_type": "stream",
          "text": [
            "Found 500 images belonging to 2 classes.\n",
            "Found 200 images belonging to 2 classes.\n"
          ],
          "name": "stdout"
        }
      ]
    },
    {
      "cell_type": "code",
      "metadata": {
        "id": "e1Kc-AkcFfCG",
        "colab_type": "code",
        "colab": {
          "base_uri": "https://localhost:8080/",
          "height": 289
        },
        "outputId": "6e94dfda-260f-4694-8958-f7b4483fe724"
      },
      "source": [
        "\n",
        "model = Sequential()\n",
        "\n",
        "# 1st Convolutional Layer\n",
        "model.add(Conv2D(filters=96, input_shape=(227,227,3), kernel_size=(11,11), strides=(4,4), padding=\"valid\", activation = \"relu\"))\n",
        "\n",
        "# Max Pooling\n",
        "model.add(MaxPool2D(pool_size=(3,3), strides=(2,2), padding=\"valid\"))\n",
        "\n",
        "# 2nd Convolutional Layer\n",
        "model.add(Conv2D(filters=256, kernel_size=(5,5), strides=(1,1), padding=\"same\", activation = \"relu\"))\n",
        "\n",
        "# Max Pooling\n",
        "model.add(MaxPool2D(pool_size=(3,3), strides=(2,2), padding=\"valid\"))\n",
        "\n",
        "# 3rd Convolutional Layer\n",
        "model.add(Conv2D(filters=384, kernel_size=(3,3), strides=(1,1), padding=\"same\", activation = \"relu\"))\n",
        "\n",
        "# 4th Convolutional Layer\n",
        "model.add(Conv2D(filters=384, kernel_size=(3,3), strides=(1,1), padding=\"same\", activation = \"relu\"))\n",
        "\n",
        "# 5th Convolutional Layer\n",
        "model.add(Conv2D(filters=256, kernel_size=(3,3), strides=(1,1), padding=\"same\", activation = \"relu\"))\n",
        "\n",
        "# Max Pooling\n",
        "model.add(MaxPool2D(pool_size=(3,3), strides=(2,2), padding=\"valid\"))\n",
        "\n",
        "# Passing it to a Fully Connected layer\n",
        "model.add(Flatten())\n",
        "# 1st Fully Connected Layer\n",
        "model.add(Dense(units = 9216, activation = \"relu\"))\n",
        "\n",
        "# 2nd Fully Connected Layer\n",
        "model.add(Dense(units = 4096, activation = \"relu\"))\n",
        "\n",
        "# 3rd Fully Connected Layer\n",
        "model.add(Dense(4096, activation = \"relu\"))\n",
        "\n",
        "# Output Layer\n",
        "model.add(Dense(2, activation = \"softmax\")) #As we have two classes\n",
        "from keras.optimizers import Adam\n",
        "opt = Adam(lr=0.001)\n",
        "# compile the model \n",
        "model.compile(loss = \"binary_crossentropy\", optimizer = optimizers.SGD(lr=0.0001, momentum=0.9), metrics=[\"accuracy\"])"
      ],
      "execution_count": 5,
      "outputs": [
        {
          "output_type": "stream",
          "text": [
            "WARNING:tensorflow:From /usr/local/lib/python3.6/dist-packages/keras/backend/tensorflow_backend.py:66: The name tf.get_default_graph is deprecated. Please use tf.compat.v1.get_default_graph instead.\n",
            "\n",
            "WARNING:tensorflow:From /usr/local/lib/python3.6/dist-packages/keras/backend/tensorflow_backend.py:541: The name tf.placeholder is deprecated. Please use tf.compat.v1.placeholder instead.\n",
            "\n",
            "WARNING:tensorflow:From /usr/local/lib/python3.6/dist-packages/keras/backend/tensorflow_backend.py:4432: The name tf.random_uniform is deprecated. Please use tf.random.uniform instead.\n",
            "\n",
            "WARNING:tensorflow:From /usr/local/lib/python3.6/dist-packages/keras/backend/tensorflow_backend.py:4267: The name tf.nn.max_pool is deprecated. Please use tf.nn.max_pool2d instead.\n",
            "\n",
            "WARNING:tensorflow:From /usr/local/lib/python3.6/dist-packages/keras/optimizers.py:793: The name tf.train.Optimizer is deprecated. Please use tf.compat.v1.train.Optimizer instead.\n",
            "\n",
            "WARNING:tensorflow:From /usr/local/lib/python3.6/dist-packages/keras/backend/tensorflow_backend.py:3657: The name tf.log is deprecated. Please use tf.math.log instead.\n",
            "\n",
            "WARNING:tensorflow:From /usr/local/lib/python3.6/dist-packages/tensorflow_core/python/ops/nn_impl.py:183: where (from tensorflow.python.ops.array_ops) is deprecated and will be removed in a future version.\n",
            "Instructions for updating:\n",
            "Use tf.where in 2.0, which has the same broadcast rule as np.where\n"
          ],
          "name": "stdout"
        }
      ]
    },
    {
      "cell_type": "code",
      "metadata": {
        "id": "Kk2evNqAFjlV",
        "colab_type": "code",
        "colab": {
          "base_uri": "https://localhost:8080/",
          "height": 944
        },
        "outputId": "f0784d80-2c04-4992-be4d-d195b89f5a6e"
      },
      "source": [
        "\n",
        "history=model.fit_generator(train_generator,\n",
        "                         steps_per_epoch = 500,\n",
        "                         epochs = 20,\n",
        "                         validation_data=validation_generator,\n",
        "                         validation_steps=100, \n",
        "    verbose=1)"
      ],
      "execution_count": 6,
      "outputs": [
        {
          "output_type": "stream",
          "text": [
            "WARNING:tensorflow:From /usr/local/lib/python3.6/dist-packages/keras/backend/tensorflow_backend.py:1033: The name tf.assign_add is deprecated. Please use tf.compat.v1.assign_add instead.\n",
            "\n",
            "WARNING:tensorflow:From /usr/local/lib/python3.6/dist-packages/keras/backend/tensorflow_backend.py:3005: The name tf.Session is deprecated. Please use tf.compat.v1.Session instead.\n",
            "\n",
            "Epoch 1/20\n",
            "WARNING:tensorflow:From /usr/local/lib/python3.6/dist-packages/keras/backend/tensorflow_backend.py:190: The name tf.get_default_session is deprecated. Please use tf.compat.v1.get_default_session instead.\n",
            "\n",
            "WARNING:tensorflow:From /usr/local/lib/python3.6/dist-packages/keras/backend/tensorflow_backend.py:197: The name tf.ConfigProto is deprecated. Please use tf.compat.v1.ConfigProto instead.\n",
            "\n",
            "WARNING:tensorflow:From /usr/local/lib/python3.6/dist-packages/keras/backend/tensorflow_backend.py:207: The name tf.global_variables is deprecated. Please use tf.compat.v1.global_variables instead.\n",
            "\n",
            "WARNING:tensorflow:From /usr/local/lib/python3.6/dist-packages/keras/backend/tensorflow_backend.py:216: The name tf.is_variable_initialized is deprecated. Please use tf.compat.v1.is_variable_initialized instead.\n",
            "\n",
            "WARNING:tensorflow:From /usr/local/lib/python3.6/dist-packages/keras/backend/tensorflow_backend.py:223: The name tf.variables_initializer is deprecated. Please use tf.compat.v1.variables_initializer instead.\n",
            "\n",
            "500/500 [==============================] - 260s 520ms/step - loss: 0.6928 - acc: 0.5046 - val_loss: 0.6921 - val_acc: 0.5080\n",
            "Epoch 2/20\n",
            "500/500 [==============================] - 111s 222ms/step - loss: 0.6920 - acc: 0.5176 - val_loss: 0.6913 - val_acc: 0.5381\n",
            "Epoch 3/20\n",
            "500/500 [==============================] - 109s 219ms/step - loss: 0.6907 - acc: 0.5460 - val_loss: 0.6905 - val_acc: 0.5402\n",
            "Epoch 4/20\n",
            "500/500 [==============================] - 106s 212ms/step - loss: 0.6901 - acc: 0.5500 - val_loss: 0.6892 - val_acc: 0.5461\n",
            "Epoch 5/20\n",
            "500/500 [==============================] - 106s 212ms/step - loss: 0.6888 - acc: 0.5658 - val_loss: 0.6880 - val_acc: 0.5608\n",
            "Epoch 6/20\n",
            "500/500 [==============================] - 107s 214ms/step - loss: 0.6876 - acc: 0.5698 - val_loss: 0.6864 - val_acc: 0.5953\n",
            "Epoch 7/20\n",
            "500/500 [==============================] - 107s 214ms/step - loss: 0.6847 - acc: 0.5820 - val_loss: 0.6848 - val_acc: 0.5912\n",
            "Epoch 8/20\n",
            "500/500 [==============================] - 106s 213ms/step - loss: 0.6817 - acc: 0.5806 - val_loss: 0.6799 - val_acc: 0.5845\n",
            "Epoch 9/20\n",
            "500/500 [==============================] - 107s 213ms/step - loss: 0.6787 - acc: 0.5684 - val_loss: 0.6753 - val_acc: 0.5779\n",
            "Epoch 10/20\n",
            "500/500 [==============================] - 107s 215ms/step - loss: 0.6749 - acc: 0.5904 - val_loss: 0.6709 - val_acc: 0.6006\n",
            "Epoch 11/20\n",
            "500/500 [==============================] - 106s 213ms/step - loss: 0.6717 - acc: 0.5916 - val_loss: 0.6676 - val_acc: 0.6049\n",
            "Epoch 12/20\n",
            "500/500 [==============================] - 109s 218ms/step - loss: 0.6648 - acc: 0.6000 - val_loss: 0.6873 - val_acc: 0.5370\n",
            "Epoch 13/20\n",
            "500/500 [==============================] - 108s 215ms/step - loss: 0.6654 - acc: 0.5968 - val_loss: 0.6587 - val_acc: 0.6086\n",
            "Epoch 14/20\n",
            "500/500 [==============================] - 108s 217ms/step - loss: 0.6627 - acc: 0.5962 - val_loss: 0.6580 - val_acc: 0.6134\n",
            "Epoch 15/20\n",
            "500/500 [==============================] - 109s 217ms/step - loss: 0.6573 - acc: 0.6108 - val_loss: 0.6484 - val_acc: 0.6330\n",
            "Epoch 16/20\n",
            "500/500 [==============================] - 108s 216ms/step - loss: 0.6589 - acc: 0.6076 - val_loss: 0.6443 - val_acc: 0.6397\n",
            "Epoch 17/20\n",
            "500/500 [==============================] - 107s 215ms/step - loss: 0.6485 - acc: 0.6192 - val_loss: 0.6546 - val_acc: 0.6006\n",
            "Epoch 18/20\n",
            "500/500 [==============================] - 107s 215ms/step - loss: 0.6473 - acc: 0.6170 - val_loss: 0.6350 - val_acc: 0.6338\n",
            "Epoch 19/20\n",
            "500/500 [==============================] - 108s 216ms/step - loss: 0.6386 - acc: 0.6364 - val_loss: 0.6385 - val_acc: 0.6201\n",
            "Epoch 20/20\n",
            "500/500 [==============================] - 108s 215ms/step - loss: 0.6421 - acc: 0.6382 - val_loss: 0.6363 - val_acc: 0.6341\n"
          ],
          "name": "stdout"
        }
      ]
    },
    {
      "cell_type": "code",
      "metadata": {
        "id": "jPQFfIcUFmzT",
        "colab_type": "code",
        "colab": {}
      },
      "source": [
        ""
      ],
      "execution_count": 0,
      "outputs": []
    }
  ]
}