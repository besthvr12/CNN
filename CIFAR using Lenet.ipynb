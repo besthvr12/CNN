{
 "cells": [
  {
   "cell_type": "code",
   "execution_count": 16,
   "metadata": {},
   "outputs": [],
   "source": [
    "# import the necessary packages\n",
    "from keras.models import Sequential\n",
    "from keras.layers.convolutional import Conv2D\n",
    "from keras.layers.convolutional import MaxPooling2D\n",
    "from keras.layers.core import Activation\n",
    "from keras.layers.core import Flatten\n",
    "from keras.layers.core import Dense\n",
    "from keras import backend as K\n",
    "from keras.datasets import cifar10"
   ]
  },
  {
   "cell_type": "code",
   "execution_count": 17,
   "metadata": {},
   "outputs": [
    {
     "name": "stdout",
     "output_type": "stream",
     "text": [
      "[INFO] loading CIFAR-10 data...\n"
     ]
    }
   ],
   "source": [
    "# load the training and testing data, then scale it into the\n",
    "# range [0, 1]\n",
    "print(\"[INFO] loading CIFAR-10 data...\")\n",
    "((trainX, trainY), (testX, testY)) = cifar10.load_data()\n",
    "trainX = trainX.astype(\"float\") / 255.0\n",
    "testX = testX.astype(\"float\") / 255.0\n",
    "\n",
    "# convert the labels from integers to vectors\n",
    "lb = LabelBinarizer()"
   ]
  },
  {
   "cell_type": "code",
   "execution_count": 18,
   "metadata": {},
   "outputs": [],
   "source": [
    "width=32\n",
    "height=32\n",
    "depth=3\n",
    "classes=10\n"
   ]
  },
  {
   "cell_type": "code",
   "execution_count": 19,
   "metadata": {},
   "outputs": [],
   "source": [
    "trainY = lb.fit_transform(trainY)\n",
    "testY = lb.transform(testY)\n",
    "\n",
    " # initialize the label names for the CIFAR-10 dataset\n",
    "labelNames = [\"airplane\", \"automobile\", \"bird\", \"cat\", \"deer\",\n",
    " \"dog\", \"frog\", \"horse\", \"ship\", \"truck\"]"
   ]
  },
  {
   "cell_type": "code",
   "execution_count": 20,
   "metadata": {},
   "outputs": [],
   "source": [
    "model = Sequential()\n",
    "inputShape = (height, width, depth)\n",
    "\n",
    "# if we are using \"channels first\", update the input shape\n",
    "if K.image_data_format() == \"channels_first\":\n",
    "    inputShape = (depth, height, width)\n",
    "model.add(Conv2D(20, (5, 5), padding=\"same\",input_shape=inputShape))\n",
    "model.add(Activation(\"relu\"))\n",
    "model.add(MaxPooling2D(pool_size=(2, 2), strides=(2, 2)))\n",
    "model.add(Conv2D(50, (5, 5), padding=\"same\"))\n",
    "model.add(Activation(\"relu\"))\n",
    "model.add(MaxPooling2D(pool_size=(2, 2), strides=(2, 2)))\n",
    "model.add(Flatten())\n",
    "model.add(Dense(500))\n",
    "model.add(Activation(\"relu\"))\n",
    "model.add(Dense(classes))\n",
    "model.add(Activation(\"softmax\"))"
   ]
  },
  {
   "cell_type": "code",
   "execution_count": 21,
   "metadata": {},
   "outputs": [],
   "source": [
    "from keras.optimizers import SGD\n",
    "from sklearn.preprocessing import LabelBinarizer\n",
    "from sklearn.model_selection import train_test_split\n",
    "from sklearn.metrics import classification_report\n",
    "from sklearn import datasets\n",
    "from keras import backend as K\n",
    "import matplotlib.pyplot as plt\n",
    "import numpy as np"
   ]
  },
  {
   "cell_type": "code",
   "execution_count": 23,
   "metadata": {},
   "outputs": [
    {
     "name": "stdout",
     "output_type": "stream",
     "text": [
      "[INFO] compiling model...\n",
      "[INFO] training network...\n",
      "Train on 50000 samples, validate on 10000 samples\n",
      "Epoch 1/40\n",
      "50000/50000 [==============================] - 163s 3ms/step - loss: 1.8583 - accuracy: 0.3349 - val_loss: 1.8997 - val_accuracy: 0.3146\n",
      "Epoch 2/40\n",
      "50000/50000 [==============================] - 163s 3ms/step - loss: 1.4938 - accuracy: 0.4684 - val_loss: 1.4517 - val_accuracy: 0.4830\n",
      "Epoch 3/40\n",
      "50000/50000 [==============================] - 163s 3ms/step - loss: 1.3376 - accuracy: 0.5276 - val_loss: 1.3851 - val_accuracy: 0.5111\n",
      "Epoch 4/40\n",
      "50000/50000 [==============================] - 161s 3ms/step - loss: 1.2201 - accuracy: 0.5713 - val_loss: 1.3173 - val_accuracy: 0.5279\n",
      "Epoch 5/40\n",
      "50000/50000 [==============================] - 161s 3ms/step - loss: 1.1165 - accuracy: 0.6081 - val_loss: 1.1739 - val_accuracy: 0.5807\n",
      "Epoch 6/40\n",
      "50000/50000 [==============================] - 161s 3ms/step - loss: 1.0267 - accuracy: 0.6428 - val_loss: 1.0609 - val_accuracy: 0.6245\n",
      "Epoch 7/40\n",
      "50000/50000 [==============================] - 162s 3ms/step - loss: 0.9492 - accuracy: 0.6687 - val_loss: 1.0030 - val_accuracy: 0.6507\n",
      "Epoch 8/40\n",
      "50000/50000 [==============================] - 163s 3ms/step - loss: 0.8779 - accuracy: 0.6952 - val_loss: 0.9962 - val_accuracy: 0.6520\n",
      "Epoch 9/40\n",
      "50000/50000 [==============================] - 163s 3ms/step - loss: 0.8130 - accuracy: 0.7188 - val_loss: 0.9937 - val_accuracy: 0.6572\n",
      "Epoch 10/40\n",
      "50000/50000 [==============================] - 163s 3ms/step - loss: 0.7514 - accuracy: 0.7396 - val_loss: 0.9830 - val_accuracy: 0.6639\n",
      "Epoch 11/40\n",
      "50000/50000 [==============================] - 164s 3ms/step - loss: 0.6856 - accuracy: 0.7629 - val_loss: 1.2865 - val_accuracy: 0.5829\n",
      "Epoch 12/40\n",
      "50000/50000 [==============================] - 165s 3ms/step - loss: 0.6281 - accuracy: 0.7837 - val_loss: 1.0363 - val_accuracy: 0.6583\n",
      "Epoch 13/40\n",
      "50000/50000 [==============================] - 164s 3ms/step - loss: 0.5635 - accuracy: 0.8067 - val_loss: 1.0572 - val_accuracy: 0.6554\n",
      "Epoch 14/40\n",
      "50000/50000 [==============================] - 165s 3ms/step - loss: 0.5024 - accuracy: 0.8271 - val_loss: 0.9932 - val_accuracy: 0.6836\n",
      "Epoch 15/40\n",
      "50000/50000 [==============================] - 165s 3ms/step - loss: 0.4403 - accuracy: 0.8497 - val_loss: 0.9948 - val_accuracy: 0.6832\n",
      "Epoch 16/40\n",
      "50000/50000 [==============================] - 169s 3ms/step - loss: 0.3807 - accuracy: 0.8713 - val_loss: 1.0813 - val_accuracy: 0.6735\n",
      "Epoch 17/40\n",
      "50000/50000 [==============================] - 170s 3ms/step - loss: 0.3202 - accuracy: 0.8929 - val_loss: 1.0806 - val_accuracy: 0.6825\n",
      "Epoch 18/40\n",
      "50000/50000 [==============================] - 167s 3ms/step - loss: 0.2623 - accuracy: 0.9144 - val_loss: 1.1426 - val_accuracy: 0.6834\n",
      "Epoch 19/40\n",
      "50000/50000 [==============================] - 165s 3ms/step - loss: 0.2151 - accuracy: 0.9317 - val_loss: 1.2478 - val_accuracy: 0.6738\n",
      "Epoch 20/40\n",
      "50000/50000 [==============================] - 166s 3ms/step - loss: 0.1707 - accuracy: 0.9475 - val_loss: 1.3072 - val_accuracy: 0.6728\n",
      "Epoch 21/40\n",
      "50000/50000 [==============================] - 172s 3ms/step - loss: 0.1298 - accuracy: 0.9622 - val_loss: 1.3647 - val_accuracy: 0.6787\n",
      "Epoch 22/40\n",
      "50000/50000 [==============================] - 174s 3ms/step - loss: 0.1009 - accuracy: 0.9724 - val_loss: 1.3574 - val_accuracy: 0.6851\n",
      "Epoch 23/40\n",
      "50000/50000 [==============================] - 152s 3ms/step - loss: 0.0681 - accuracy: 0.9839 - val_loss: 1.4611 - val_accuracy: 0.6863\n",
      "Epoch 24/40\n",
      "50000/50000 [==============================] - 158s 3ms/step - loss: 0.0495 - accuracy: 0.9902 - val_loss: 1.5085 - val_accuracy: 0.6914\n",
      "Epoch 25/40\n",
      "50000/50000 [==============================] - 179s 4ms/step - loss: 0.0312 - accuracy: 0.9957 - val_loss: 1.6326 - val_accuracy: 0.6834\n",
      "Epoch 26/40\n",
      "50000/50000 [==============================] - 185s 4ms/step - loss: 0.0215 - accuracy: 0.9974 - val_loss: 1.6188 - val_accuracy: 0.6966\n",
      "Epoch 27/40\n",
      "50000/50000 [==============================] - 284s 6ms/step - loss: 0.0088 - accuracy: 0.9992 - val_loss: 1.7587 - val_accuracy: 0.6954\n",
      "Epoch 30/40\n",
      "50000/50000 [==============================] - 185s 4ms/step - loss: 0.0081 - accuracy: 0.9993 - val_loss: 1.7905 - val_accuracy: 0.6946\n",
      "Epoch 31/40\n",
      "50000/50000 [==============================] - 173s 3ms/step - loss: 0.0064 - accuracy: 0.9994 - val_loss: 1.7994 - val_accuracy: 0.6961\n",
      "Epoch 32/40\n",
      "50000/50000 [==============================] - 161s 3ms/step - loss: 0.0049 - accuracy: 0.9998 - val_loss: 1.8428 - val_accuracy: 0.6952\n",
      "Epoch 33/40\n",
      "50000/50000 [==============================] - 147s 3ms/step - loss: 0.0038 - accuracy: 0.9999 - val_loss: 1.8690 - val_accuracy: 0.6951\n",
      "Epoch 34/40\n",
      "50000/50000 [==============================] - 168s 3ms/step - loss: 0.0045 - accuracy: 0.9996 - val_loss: 1.8821 - val_accuracy: 0.6950\n",
      "Epoch 35/40\n",
      "50000/50000 [==============================] - 171s 3ms/step - loss: 0.0031 - accuracy: 1.0000 - val_loss: 1.9292 - val_accuracy: 0.6920\n",
      "Epoch 36/40\n",
      "50000/50000 [==============================] - 233s 5ms/step - loss: 0.0029 - accuracy: 0.9999 - val_loss: 1.9324 - val_accuracy: 0.6965\n",
      "Epoch 37/40\n",
      "50000/50000 [==============================] - 311s 6ms/step - loss: 0.0024 - accuracy: 1.0000 - val_loss: 1.9529 - val_accuracy: 0.6965\n",
      "Epoch 38/40\n",
      "50000/50000 [==============================] - 293s 6ms/step - loss: 0.0022 - accuracy: 1.0000 - val_loss: 1.9681 - val_accuracy: 0.6973\n",
      "Epoch 39/40\n",
      "50000/50000 [==============================] - 173s 3ms/step - loss: 0.0020 - accuracy: 1.0000 - val_loss: 1.9901 - val_accuracy: 0.6968\n",
      "Epoch 40/40\n",
      "50000/50000 [==============================] - 168s 3ms/step - loss: 0.0019 - accuracy: 1.0000 - val_loss: 2.0029 - val_accuracy: 0.6967\n"
     ]
    }
   ],
   "source": [
    "# initialize the optimizer and model\n",
    "print(\"[INFO] compiling model...\")\n",
    "opt = SGD(lr=0.01)\n",
    "model.compile(loss=\"categorical_crossentropy\", optimizer=opt,\n",
    "metrics=[\"accuracy\"])\n",
    "\n",
    "# train the network\n",
    "print(\"[INFO] training network...\")\n",
    "H = model.fit(trainX, trainY, validation_data=(testX, testY),\n",
    "batch_size=32, epochs=40, verbose=1)"
   ]
  },
  {
   "cell_type": "code",
   "execution_count": 24,
   "metadata": {},
   "outputs": [
    {
     "name": "stdout",
     "output_type": "stream",
     "text": [
      "              precision    recall  f1-score   support\n",
      "\n",
      "    airplane       0.73      0.78      0.75      1000\n",
      "  automobile       0.81      0.77      0.79      1000\n",
      "        bird       0.62      0.58      0.60      1000\n",
      "         cat       0.51      0.50      0.51      1000\n",
      "        deer       0.63      0.66      0.65      1000\n",
      "         dog       0.58      0.58      0.58      1000\n",
      "        frog       0.74      0.78      0.76      1000\n",
      "       horse       0.77      0.76      0.76      1000\n",
      "        ship       0.82      0.80      0.81      1000\n",
      "       truck       0.75      0.76      0.75      1000\n",
      "\n",
      "    accuracy                           0.70     10000\n",
      "   macro avg       0.70      0.70      0.70     10000\n",
      "weighted avg       0.70      0.70      0.70     10000\n",
      "\n"
     ]
    }
   ],
   "source": [
    "# evaluate the networkprint(\"[INFO] evaluating network...\")\n",
    "predictions = model.predict(testX, batch_size=32)\n",
    "print(classification_report(testY.argmax(axis=1),\n",
    "predictions.argmax(axis=1), target_names=labelNames))"
   ]
  },
  {
   "cell_type": "code",
   "execution_count": 25,
   "metadata": {},
   "outputs": [
    {
     "data": {
      "text/plain": [
       "[<matplotlib.lines.Line2D at 0x26d21f85fc8>]"
      ]
     },
     "execution_count": 25,
     "metadata": {},
     "output_type": "execute_result"
    },
    {
     "data": {
      "image/png": "[encoded data removed]",
      "text/plain": [
       "<Figure size 432x288 with 1 Axes>"
      ]
     },
     "metadata": {},
     "output_type": "display_data"
    },
    {
     "data": {
      "image/png": "[encoded data removed]",
      "text/plain": [
       "<Figure size 432x288 with 1 Axes>"
      ]
     },
     "metadata": {},
     "output_type": "display_data"
    }
   ],
   "source": [
    "# plot the training loss and accuracy\n",
    "plt.style.use(\"ggplot\")\n",
    "plt.figure()\n",
    "plt.plot(np.arange(0, 40), H.history[\"loss\"], label=\"train_loss\")\n",
    "plt.plot(np.arange(0, 40), H.history[\"val_loss\"], label=\"val_loss\")\n",
    "# plot the training loss and accuracy\n",
    "plt.style.use(\"ggplot\")\n",
    "plt.figure()\n",
    "plt.plot(np.arange(0, 40), H.history[\"loss\"], label=\"train_loss\")\n",
    "plt.plot(np.arange(0, 40), H.history[\"val_loss\"], label=\"val_loss\")"
   ]
  }
 ],
 "metadata": {
  "kernelspec": {
   "display_name": "Python 3",
   "language": "python",
   "name": "python3"
  },
  "language_info": {
   "codemirror_mode": {
    "name": "ipython",
    "version": 3
   },
   "file_extension": ".py",
   "mimetype": "text/x-python",
   "name": "python",
   "nbconvert_exporter": "python",
   "pygments_lexer": "ipython3",
   "version": "3.7.4"
  }
 },
 "nbformat": 4,
 "nbformat_minor": 2
}
