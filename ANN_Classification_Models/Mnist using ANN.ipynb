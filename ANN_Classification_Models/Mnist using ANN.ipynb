{
 "cells": [
  {
   "cell_type": "code",
   "execution_count": 2,
   "metadata": {},
   "outputs": [
    {
     "name": "stderr",
     "output_type": "stream",
     "text": [
      "Using TensorFlow backend.\n"
     ]
    }
   ],
   "source": [
    "from sklearn.preprocessing import LabelBinarizer\n",
    "from sklearn.model_selection import train_test_split\n",
    "from sklearn.metrics import classification_report\n",
    "from keras.models import Sequential\n",
    "from keras.layers.core import Dense\n",
    "from keras.optimizers import SGD\n",
    "from sklearn import datasets\n",
    "import matplotlib.pyplot as plt\n",
    "import numpy as np\n"
   ]
  },
  {
   "cell_type": "code",
   "execution_count": 4,
   "metadata": {},
   "outputs": [
    {
     "name": "stdout",
     "output_type": "stream",
     "text": [
      "[INFO] loading MNIST (full) dataset...\n"
     ]
    },
    {
     "name": "stderr",
     "output_type": "stream",
     "text": [
      "C:\\Users\\ASUS\\Anaconda3\\lib\\site-packages\\sklearn\\utils\\deprecation.py:85: DeprecationWarning: Function fetch_mldata is deprecated; fetch_mldata was deprecated in version 0.20 and will be removed in version 0.22. Please use fetch_openml.\n",
      "  warnings.warn(msg, category=DeprecationWarning)\n",
      "C:\\Users\\ASUS\\Anaconda3\\lib\\site-packages\\sklearn\\utils\\deprecation.py:85: DeprecationWarning: Function mldata_filename is deprecated; mldata_filename was deprecated in version 0.20 and will be removed in version 0.22. Please use fetch_openml.\n",
      "  warnings.warn(msg, category=DeprecationWarning)\n"
     ]
    }
   ],
   "source": [
    "# grab the MNIST dataset (if this is your first time running this\n",
    "# script, the download may take a minute -- the 55MB MNIST dataset\n",
    "# will be downloaded)\n",
    "print(\"[INFO] loading MNIST (full) dataset...\")\n",
    "dataset = datasets.fetch_mldata(\"MNIST Original\")\n",
    "\n",
    "# scale the raw pixel intensities to the range [0, 1.0], then\n",
    "# construct the training and testing splits\n",
    "data = dataset.data.astype(\"float\") / 255.0\n",
    "(trainX, testX, trainY, testY) = train_test_split(data,\n",
    "dataset.target, test_size=0.25)"
   ]
  },
  {
   "cell_type": "code",
   "execution_count": 6,
   "metadata": {},
   "outputs": [],
   "source": [
    "#convert the labels from integers to vectors\n",
    "lb = LabelBinarizer()\n",
    "trainY = lb.fit_transform(trainY)\n",
    "testY = lb.transform(testY)"
   ]
  },
  {
   "cell_type": "code",
   "execution_count": 7,
   "metadata": {},
   "outputs": [],
   "source": [
    "  # define the 784-256-128-10 architecture using Keras\n",
    "model = Sequential()\n",
    "model.add(Dense(256, input_shape=(784,), activation=\"sigmoid\"))\n",
    "model.add(Dense(128, activation=\"sigmoid\"))\n",
    "model.add(Dense(10, activation=\"softmax\"))"
   ]
  },
  {
   "cell_type": "code",
   "execution_count": 8,
   "metadata": {},
   "outputs": [
    {
     "name": "stdout",
     "output_type": "stream",
     "text": [
      "[INFO] training network...\n",
      "Train on 52500 samples, validate on 17500 samples\n",
      "Epoch 1/100\n",
      "52500/52500 [==============================] - 4s 81us/step - loss: 2.2840 - accuracy: 0.1861 - val_loss: 2.2502 - val_accuracy: 0.3449\n",
      "Epoch 2/100\n",
      "52500/52500 [==============================] - 3s 54us/step - loss: 2.2211 - accuracy: 0.3413 - val_loss: 2.1924 - val_accuracy: 0.3914\n",
      "Epoch 3/100\n",
      "52500/52500 [==============================] - 2s 48us/step - loss: 2.1535 - accuracy: 0.5011 - val_loss: 2.1141 - val_accuracy: 0.5695\n",
      "Epoch 4/100\n",
      "52500/52500 [==============================] - 3s 49us/step - loss: 2.0600 - accuracy: 0.5853 - val_loss: 2.0043 - val_accuracy: 0.6023\n",
      "Epoch 5/100\n",
      "52500/52500 [==============================] - 3s 48us/step - loss: 1.9285 - accuracy: 0.6321 - val_loss: 1.8513 - val_accuracy: 0.6371\n",
      "Epoch 6/100\n",
      "52500/52500 [==============================] - 3s 59us/step - loss: 1.7543 - accuracy: 0.6650 - val_loss: 1.6614 - val_accuracy: 0.7130\n",
      "Epoch 7/100\n",
      "52500/52500 [==============================] - 3s 51us/step - loss: 1.5550 - accuracy: 0.7047 - val_loss: 1.4630 - val_accuracy: 0.6795\n",
      "Epoch 8/100\n",
      "52500/52500 [==============================] - 3s 49us/step - loss: 1.3628 - accuracy: 0.7259 - val_loss: 1.2850 - val_accuracy: 0.7113\n",
      "Epoch 9/100\n",
      "52500/52500 [==============================] - 2s 47us/step - loss: 1.1996 - accuracy: 0.7477 - val_loss: 1.1396 - val_accuracy: 0.7557\n",
      "Epoch 10/100\n",
      "52500/52500 [==============================] - 2s 47us/step - loss: 1.0697 - accuracy: 0.7672 - val_loss: 1.0254 - val_accuracy: 0.7574\n",
      "Epoch 11/100\n",
      "52500/52500 [==============================] - 2s 47us/step - loss: 0.9678 - accuracy: 0.7811 - val_loss: 0.9361 - val_accuracy: 0.7830\n",
      "Epoch 12/100\n",
      "52500/52500 [==============================] - 2s 47us/step - loss: 0.8870 - accuracy: 0.7948 - val_loss: 0.8642 - val_accuracy: 0.7948\n",
      "Epoch 13/100\n",
      "52500/52500 [==============================] - 2s 47us/step - loss: 0.8214 - accuracy: 0.8056 - val_loss: 0.8054 - val_accuracy: 0.8086\n",
      "Epoch 14/100\n",
      "52500/52500 [==============================] - 2s 47us/step - loss: 0.7668 - accuracy: 0.8161 - val_loss: 0.7561 - val_accuracy: 0.8187\n",
      "Epoch 15/100\n",
      "52500/52500 [==============================] - 2s 47us/step - loss: 0.7206 - accuracy: 0.8255 - val_loss: 0.7135 - val_accuracy: 0.8249\n",
      "Epoch 16/100\n",
      "52500/52500 [==============================] - 3s 48us/step - loss: 0.6809 - accuracy: 0.8338 - val_loss: 0.6770 - val_accuracy: 0.8330\n",
      "Epoch 17/100\n",
      "52500/52500 [==============================] - 2s 47us/step - loss: 0.6463 - accuracy: 0.8405 - val_loss: 0.6453 - val_accuracy: 0.8378\n",
      "Epoch 18/100\n",
      "52500/52500 [==============================] - 2s 47us/step - loss: 0.6162 - accuracy: 0.8467 - val_loss: 0.6172 - val_accuracy: 0.8443\n",
      "Epoch 19/100\n",
      "52500/52500 [==============================] - 2s 47us/step - loss: 0.5896 - accuracy: 0.8523 - val_loss: 0.5928 - val_accuracy: 0.8491\n",
      "Epoch 20/100\n",
      "52500/52500 [==============================] - 2s 47us/step - loss: 0.5663 - accuracy: 0.8570 - val_loss: 0.5710 - val_accuracy: 0.8547\n",
      "Epoch 21/100\n",
      "52500/52500 [==============================] - 3s 49us/step - loss: 0.5454 - accuracy: 0.8613 - val_loss: 0.5513 - val_accuracy: 0.8589\n",
      "Epoch 22/100\n",
      "52500/52500 [==============================] - 3s 48us/step - loss: 0.5271 - accuracy: 0.8658 - val_loss: 0.5343 - val_accuracy: 0.8611\n",
      "Epoch 23/100\n",
      "52500/52500 [==============================] - 3s 50us/step - loss: 0.5105 - accuracy: 0.8691 - val_loss: 0.5192 - val_accuracy: 0.8631\n",
      "Epoch 24/100\n",
      "52500/52500 [==============================] - 3s 49us/step - loss: 0.4958 - accuracy: 0.8722 - val_loss: 0.5052 - val_accuracy: 0.8654\n",
      "Epoch 25/100\n",
      "52500/52500 [==============================] - 3s 53us/step - loss: 0.4824 - accuracy: 0.8750 - val_loss: 0.4929 - val_accuracy: 0.8708\n",
      "Epoch 26/100\n",
      "52500/52500 [==============================] - 3s 55us/step - loss: 0.4704 - accuracy: 0.8775 - val_loss: 0.4811 - val_accuracy: 0.8716\n",
      "Epoch 27/100\n",
      "52500/52500 [==============================] - 3s 50us/step - loss: 0.4594 - accuracy: 0.8799 - val_loss: 0.4707 - val_accuracy: 0.8741\n",
      "Epoch 28/100\n",
      "52500/52500 [==============================] - 2s 47us/step - loss: 0.4495 - accuracy: 0.8819 - val_loss: 0.4613 - val_accuracy: 0.8758\n",
      "Epoch 29/100\n",
      "52500/52500 [==============================] - 2s 47us/step - loss: 0.4403 - accuracy: 0.8835 - val_loss: 0.4531 - val_accuracy: 0.8782\n",
      "Epoch 30/100\n",
      "52500/52500 [==============================] - 3s 59us/step - loss: 0.4320 - accuracy: 0.8851 - val_loss: 0.4446 - val_accuracy: 0.8789\n",
      "Epoch 31/100\n",
      "52500/52500 [==============================] - 3s 65us/step - loss: 0.4243 - accuracy: 0.8871 - val_loss: 0.4373 - val_accuracy: 0.8810\n",
      "Epoch 32/100\n",
      "52500/52500 [==============================] - 4s 77us/step - loss: 0.4172 - accuracy: 0.8880 - val_loss: 0.4306 - val_accuracy: 0.8827\n",
      "Epoch 33/100\n",
      "52500/52500 [==============================] - 3s 64us/step - loss: 0.4105 - accuracy: 0.8894 - val_loss: 0.4244 - val_accuracy: 0.8835\n",
      "Epoch 34/100\n",
      "52500/52500 [==============================] - 3s 50us/step - loss: 0.4044 - accuracy: 0.8906 - val_loss: 0.4186 - val_accuracy: 0.8849\n",
      "Epoch 35/100\n",
      "52500/52500 [==============================] - 3s 48us/step - loss: 0.3988 - accuracy: 0.8914 - val_loss: 0.4133 - val_accuracy: 0.8855\n",
      "Epoch 36/100\n",
      "52500/52500 [==============================] - 2s 48us/step - loss: 0.3934 - accuracy: 0.8930 - val_loss: 0.4083 - val_accuracy: 0.8867\n",
      "Epoch 37/100\n",
      "52500/52500 [==============================] - 2s 47us/step - loss: 0.3886 - accuracy: 0.8940 - val_loss: 0.4033 - val_accuracy: 0.8877\n",
      "Epoch 38/100\n",
      "52500/52500 [==============================] - 2s 47us/step - loss: 0.3839 - accuracy: 0.8949 - val_loss: 0.3989 - val_accuracy: 0.8889\n",
      "Epoch 39/100\n",
      "52500/52500 [==============================] - 2s 47us/step - loss: 0.3795 - accuracy: 0.8956 - val_loss: 0.3947 - val_accuracy: 0.8900\n",
      "Epoch 40/100\n",
      "52500/52500 [==============================] - 2s 46us/step - loss: 0.3754 - accuracy: 0.8966 - val_loss: 0.3910 - val_accuracy: 0.8902\n",
      "Epoch 41/100\n",
      "52500/52500 [==============================] - 2s 47us/step - loss: 0.3714 - accuracy: 0.8980 - val_loss: 0.3873 - val_accuracy: 0.8917\n",
      "Epoch 42/100\n",
      "52500/52500 [==============================] - 2s 47us/step - loss: 0.3677 - accuracy: 0.8983 - val_loss: 0.3838 - val_accuracy: 0.8921\n",
      "Epoch 43/100\n",
      "52500/52500 [==============================] - 2s 47us/step - loss: 0.3642 - accuracy: 0.8988 - val_loss: 0.3800 - val_accuracy: 0.8929\n",
      "Epoch 44/100\n",
      "52500/52500 [==============================] - 2s 46us/step - loss: 0.3609 - accuracy: 0.8998 - val_loss: 0.3768 - val_accuracy: 0.8937\n",
      "Epoch 45/100\n",
      "52500/52500 [==============================] - 2s 46us/step - loss: 0.3577 - accuracy: 0.9006 - val_loss: 0.3739 - val_accuracy: 0.8946\n",
      "Epoch 46/100\n",
      "52500/52500 [==============================] - 2s 47us/step - loss: 0.3547 - accuracy: 0.9010 - val_loss: 0.3708 - val_accuracy: 0.8954\n",
      "Epoch 47/100\n",
      "52500/52500 [==============================] - 2s 46us/step - loss: 0.3518 - accuracy: 0.9019 - val_loss: 0.3680 - val_accuracy: 0.8957\n",
      "Epoch 48/100\n",
      "52500/52500 [==============================] - 2s 47us/step - loss: 0.3491 - accuracy: 0.9023 - val_loss: 0.3656 - val_accuracy: 0.8962\n",
      "Epoch 49/100\n",
      "52500/52500 [==============================] - 2s 46us/step - loss: 0.3464 - accuracy: 0.9027 - val_loss: 0.3628 - val_accuracy: 0.8972\n",
      "Epoch 50/100\n",
      "52500/52500 [==============================] - 2s 47us/step - loss: 0.3438 - accuracy: 0.9033 - val_loss: 0.3602 - val_accuracy: 0.8981\n",
      "Epoch 51/100\n",
      "52500/52500 [==============================] - 2s 47us/step - loss: 0.3414 - accuracy: 0.9045 - val_loss: 0.3582 - val_accuracy: 0.8984\n",
      "Epoch 52/100\n",
      "52500/52500 [==============================] - 2s 47us/step - loss: 0.3390 - accuracy: 0.9045 - val_loss: 0.3558 - val_accuracy: 0.8992\n",
      "Epoch 53/100\n",
      "52500/52500 [==============================] - 2s 47us/step - loss: 0.3367 - accuracy: 0.9047 - val_loss: 0.3538 - val_accuracy: 0.8989\n",
      "Epoch 54/100\n",
      "52500/52500 [==============================] - 3s 52us/step - loss: 0.3345 - accuracy: 0.9051 - val_loss: 0.3514 - val_accuracy: 0.9004\n",
      "Epoch 55/100\n",
      "52500/52500 [==============================] - 2s 47us/step - loss: 0.3323 - accuracy: 0.9056 - val_loss: 0.3500 - val_accuracy: 0.9003\n",
      "Epoch 56/100\n",
      "52500/52500 [==============================] - 2s 46us/step - loss: 0.3303 - accuracy: 0.9066 - val_loss: 0.3474 - val_accuracy: 0.9006\n",
      "Epoch 57/100\n",
      "52500/52500 [==============================] - 2s 47us/step - loss: 0.3284 - accuracy: 0.9066 - val_loss: 0.3455 - val_accuracy: 0.9011\n",
      "Epoch 58/100\n",
      "52500/52500 [==============================] - 2s 46us/step - loss: 0.3264 - accuracy: 0.9067 - val_loss: 0.3435 - val_accuracy: 0.9015\n",
      "Epoch 59/100\n",
      "52500/52500 [==============================] - 2s 47us/step - loss: 0.3245 - accuracy: 0.9079 - val_loss: 0.3419 - val_accuracy: 0.9019\n",
      "Epoch 60/100\n",
      "52500/52500 [==============================] - 3s 48us/step - loss: 0.3227 - accuracy: 0.9082 - val_loss: 0.3399 - val_accuracy: 0.9024\n",
      "Epoch 61/100\n",
      "52500/52500 [==============================] - 2s 47us/step - loss: 0.3209 - accuracy: 0.9086 - val_loss: 0.3387 - val_accuracy: 0.9033\n",
      "Epoch 62/100\n",
      "52500/52500 [==============================] - 2s 48us/step - loss: 0.3192 - accuracy: 0.9091 - val_loss: 0.3371 - val_accuracy: 0.9033\n",
      "Epoch 63/100\n",
      "52500/52500 [==============================] - 2s 47us/step - loss: 0.3176 - accuracy: 0.9092 - val_loss: 0.3351 - val_accuracy: 0.9039\n",
      "Epoch 64/100\n",
      "52500/52500 [==============================] - 3s 49us/step - loss: 0.3159 - accuracy: 0.9102 - val_loss: 0.3333 - val_accuracy: 0.9047\n",
      "Epoch 65/100\n",
      "52500/52500 [==============================] - 2s 47us/step - loss: 0.3143 - accuracy: 0.9105 - val_loss: 0.3321 - val_accuracy: 0.9046\n",
      "Epoch 66/100\n",
      "52500/52500 [==============================] - 2s 47us/step - loss: 0.3127 - accuracy: 0.9112 - val_loss: 0.3308 - val_accuracy: 0.9051\n",
      "Epoch 67/100\n",
      "52500/52500 [==============================] - 2s 46us/step - loss: 0.3111 - accuracy: 0.9112 - val_loss: 0.3291 - val_accuracy: 0.9055\n",
      "Epoch 68/100\n",
      "52500/52500 [==============================] - 2s 46us/step - loss: 0.3097 - accuracy: 0.9119 - val_loss: 0.3278 - val_accuracy: 0.9062\n",
      "Epoch 69/100\n",
      "52500/52500 [==============================] - 2s 46us/step - loss: 0.3083 - accuracy: 0.9119 - val_loss: 0.3264 - val_accuracy: 0.9069\n",
      "Epoch 70/100\n",
      "52500/52500 [==============================] - 2s 46us/step - loss: 0.3069 - accuracy: 0.9124 - val_loss: 0.3252 - val_accuracy: 0.9069\n",
      "Epoch 71/100\n",
      "52500/52500 [==============================] - 2s 46us/step - loss: 0.3055 - accuracy: 0.9128 - val_loss: 0.3234 - val_accuracy: 0.9076\n",
      "Epoch 72/100\n",
      "52500/52500 [==============================] - 2s 46us/step - loss: 0.3041 - accuracy: 0.9130 - val_loss: 0.3223 - val_accuracy: 0.9084\n",
      "Epoch 73/100\n",
      "52500/52500 [==============================] - 2s 46us/step - loss: 0.3028 - accuracy: 0.9134 - val_loss: 0.3212 - val_accuracy: 0.9083\n",
      "Epoch 74/100\n",
      "52500/52500 [==============================] - 2s 46us/step - loss: 0.3015 - accuracy: 0.9139 - val_loss: 0.3198 - val_accuracy: 0.9093\n",
      "Epoch 75/100\n",
      "52500/52500 [==============================] - 3s 48us/step - loss: 0.3003 - accuracy: 0.9144 - val_loss: 0.3187 - val_accuracy: 0.9089\n",
      "Epoch 76/100\n",
      "52500/52500 [==============================] - 2s 47us/step - loss: 0.2990 - accuracy: 0.9147 - val_loss: 0.3175 - val_accuracy: 0.9096\n",
      "Epoch 77/100\n",
      "52500/52500 [==============================] - 2s 46us/step - loss: 0.2978 - accuracy: 0.9149 - val_loss: 0.3161 - val_accuracy: 0.9099\n",
      "Epoch 78/100\n",
      "52500/52500 [==============================] - 2s 47us/step - loss: 0.2965 - accuracy: 0.9151 - val_loss: 0.3153 - val_accuracy: 0.9103\n",
      "Epoch 79/100\n",
      "52500/52500 [==============================] - 3s 49us/step - loss: 0.2954 - accuracy: 0.9155 - val_loss: 0.3142 - val_accuracy: 0.9104\n",
      "Epoch 80/100\n",
      "52500/52500 [==============================] - 2s 47us/step - loss: 0.2942 - accuracy: 0.9157 - val_loss: 0.3129 - val_accuracy: 0.9114\n",
      "Epoch 81/100\n",
      "52500/52500 [==============================] - 2s 47us/step - loss: 0.2931 - accuracy: 0.9160 - val_loss: 0.3118 - val_accuracy: 0.9117\n",
      "Epoch 82/100\n",
      "52500/52500 [==============================] - 2s 47us/step - loss: 0.2919 - accuracy: 0.9162 - val_loss: 0.3104 - val_accuracy: 0.9118\n",
      "Epoch 83/100\n",
      "52500/52500 [==============================] - 2s 47us/step - loss: 0.2909 - accuracy: 0.9166 - val_loss: 0.3093 - val_accuracy: 0.9121\n",
      "Epoch 84/100\n",
      "52500/52500 [==============================] - 2s 47us/step - loss: 0.2897 - accuracy: 0.9170 - val_loss: 0.3086 - val_accuracy: 0.9128\n",
      "Epoch 85/100\n",
      "52500/52500 [==============================] - 2s 46us/step - loss: 0.2886 - accuracy: 0.9174 - val_loss: 0.3079 - val_accuracy: 0.9121\n",
      "Epoch 86/100\n",
      "52500/52500 [==============================] - 2s 47us/step - loss: 0.2876 - accuracy: 0.9177 - val_loss: 0.3064 - val_accuracy: 0.9133\n",
      "Epoch 87/100\n",
      "52500/52500 [==============================] - 2s 46us/step - loss: 0.2865 - accuracy: 0.9178 - val_loss: 0.3056 - val_accuracy: 0.9127\n",
      "Epoch 88/100\n",
      "52500/52500 [==============================] - 2s 47us/step - loss: 0.2855 - accuracy: 0.9179 - val_loss: 0.3044 - val_accuracy: 0.9138\n",
      "Epoch 89/100\n",
      "52500/52500 [==============================] - 2s 47us/step - loss: 0.2844 - accuracy: 0.9186 - val_loss: 0.3045 - val_accuracy: 0.9130\n",
      "Epoch 90/100\n",
      "52500/52500 [==============================] - 2s 47us/step - loss: 0.2836 - accuracy: 0.9186 - val_loss: 0.3024 - val_accuracy: 0.9138\n",
      "Epoch 91/100\n",
      "52500/52500 [==============================] - 2s 46us/step - loss: 0.2825 - accuracy: 0.9192 - val_loss: 0.3016 - val_accuracy: 0.9146\n",
      "Epoch 92/100\n",
      "52500/52500 [==============================] - 2s 46us/step - loss: 0.2815 - accuracy: 0.9190 - val_loss: 0.3006 - val_accuracy: 0.9142\n",
      "Epoch 93/100\n",
      "52500/52500 [==============================] - 2s 47us/step - loss: 0.2806 - accuracy: 0.9194 - val_loss: 0.2998 - val_accuracy: 0.9151\n",
      "Epoch 94/100\n",
      "52500/52500 [==============================] - 2s 47us/step - loss: 0.2796 - accuracy: 0.9198 - val_loss: 0.2988 - val_accuracy: 0.9147\n",
      "Epoch 95/100\n",
      "52500/52500 [==============================] - 2s 47us/step - loss: 0.2787 - accuracy: 0.9201 - val_loss: 0.2983 - val_accuracy: 0.9155\n",
      "Epoch 96/100\n",
      "52500/52500 [==============================] - 2s 46us/step - loss: 0.2778 - accuracy: 0.9202 - val_loss: 0.2969 - val_accuracy: 0.9151\n",
      "Epoch 97/100\n",
      "52500/52500 [==============================] - 2s 47us/step - loss: 0.2769 - accuracy: 0.9203 - val_loss: 0.2967 - val_accuracy: 0.9157\n",
      "Epoch 98/100\n",
      "52500/52500 [==============================] - 2s 47us/step - loss: 0.2759 - accuracy: 0.9205 - val_loss: 0.2954 - val_accuracy: 0.9156\n",
      "Epoch 99/100\n",
      "52500/52500 [==============================] - 2s 47us/step - loss: 0.2751 - accuracy: 0.9208 - val_loss: 0.2951 - val_accuracy: 0.9154\n",
      "Epoch 100/100\n",
      "52500/52500 [==============================] - 2s 47us/step - loss: 0.2742 - accuracy: 0.9206 - val_loss: 0.2940 - val_accuracy: 0.9160\n"
     ]
    }
   ],
   "source": [
    "# train the model using SGD\n",
    "print(\"[INFO] training network...\")\n",
    "sgd = SGD(0.01)\n",
    "model.compile(loss=\"categorical_crossentropy\", optimizer=sgd,\n",
    "metrics=[\"accuracy\"])\n",
    "H = model.fit(trainX, trainY, validation_data=(testX, testY),\n",
    "epochs=100, batch_size=128)"
   ]
  },
  {
   "cell_type": "code",
   "execution_count": 9,
   "metadata": {},
   "outputs": [
    {
     "name": "stdout",
     "output_type": "stream",
     "text": [
      "[INFO] evaluating network...\n",
      "              precision    recall  f1-score   support\n",
      "\n",
      "         0.0       0.94      0.96      0.95      1701\n",
      "         1.0       0.94      0.97      0.95      1936\n",
      "         2.0       0.91      0.89      0.90      1827\n",
      "         3.0       0.91      0.89      0.90      1799\n",
      "         4.0       0.91      0.94      0.92      1667\n",
      "         5.0       0.90      0.85      0.87      1584\n",
      "         6.0       0.92      0.96      0.94      1724\n",
      "         7.0       0.94      0.93      0.93      1802\n",
      "         8.0       0.88      0.88      0.88      1720\n",
      "         9.0       0.90      0.89      0.90      1740\n",
      "\n",
      "    accuracy                           0.92     17500\n",
      "   macro avg       0.92      0.92      0.92     17500\n",
      "weighted avg       0.92      0.92      0.92     17500\n",
      "\n"
     ]
    }
   ],
   "source": [
    "# evaluate the network\n",
    "print(\"[INFO] evaluating network...\")\n",
    "predictions = model.predict(testX, batch_size=128)\n",
    "print(classification_report(testY.argmax(axis=1),\n",
    "predictions.argmax(axis=1),\n",
    "target_names=[str(x) for x in lb.classes_]))"
   ]
  },
  {
   "cell_type": "code",
   "execution_count": 13,
   "metadata": {},
   "outputs": [
    {
     "data": {
      "text/plain": [
       "<matplotlib.legend.Legend at 0x19601d14f08>"
      ]
     },
     "execution_count": 13,
     "metadata": {},
     "output_type": "execute_result"
    },
    {
     "data": {
      "image/png": "[encoded data removed]",
      "text/plain": [
       "<Figure size 432x288 with 1 Axes>"
      ]
     },
     "metadata": {},
     "output_type": "display_data"
    }
   ],
   "source": [
    "# plot the training loss and accuracy\n",
    "plt.style.use(\"ggplot\")\n",
    "plt.figure()\n",
    "plt.plot(np.arange(0, 100), H.history[\"loss\"], label=\"train_loss\",color=\"r\")\n",
    "plt.plot(np.arange(0, 100), H.history[\"val_loss\"], label=\"val_loss\",color=\"y\")\n",
    "plt.plot(np.arange(0, 100), H.history[\"accuracy\"], label=\"train_acc\",color=\"b\")\n",
    "plt.plot(np.arange(0, 100), H.history[\"val_accuracy\"], label=\"val_acc\",color=\"g\")\n",
    "plt.title(\"Training Loss and Accuracy\")\n",
    "plt.xlabel(\"Epoch #\")\n",
    "plt.ylabel(\"Loss/Accuracy\")\n",
    "plt.legend()"
   ]
  },
  {
   "cell_type": "code",
   "execution_count": null,
   "metadata": {},
   "outputs": [],
   "source": []
  }
 ],
 "metadata": {
  "kernelspec": {
   "display_name": "Python 3",
   "language": "python",
   "name": "python3"
  },
  "language_info": {
   "codemirror_mode": {
    "name": "ipython",
    "version": 3
   },
   "file_extension": ".py",
   "mimetype": "text/x-python",
   "name": "python",
   "nbconvert_exporter": "python",
   "pygments_lexer": "ipython3",
   "version": "3.7.4"
  }
 },
 "nbformat": 4,
 "nbformat_minor": 2
}
