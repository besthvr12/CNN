{
  "nbformat": 4,
  "nbformat_minor": 0,
  "metadata": {
    "colab": {
      "name": "CIFAR using ANN.ipynb",
      "provenance": []
    },
    "kernelspec": {
      "name": "python3",
      "display_name": "Python 3"
    },
    "accelerator": "GPU"
  },
  "cells": [
    {
      "cell_type": "code",
      "metadata": {
        "id": "6eV6oLv-_hBc",
        "colab_type": "code",
        "colab": {
          "base_uri": "https://localhost:8080/",
          "height": 79
        },
        "outputId": "1dc844b5-5bca-4963-8488-a473462cbc99"
      },
      "source": [
        "from sklearn.preprocessing import LabelBinarizer\n",
        "from sklearn.metrics import classification_report\n",
        "from keras.models import Sequential\n",
        "from keras.layers.core import Dense\n",
        "from keras.optimizers import SGD\n",
        "from keras.datasets import cifar10\n",
        "import matplotlib.pyplot as plt\n",
        "import numpy as np"
      ],
      "execution_count": 1,
      "outputs": [
        {
          "output_type": "stream",
          "text": [
            "Using TensorFlow backend.\n"
          ],
          "name": "stderr"
        },
        {
          "output_type": "display_data",
          "data": {
            "text/html": [
              "<p style=\"color: red;\">\n",
              "The default version of TensorFlow in Colab will soon switch to TensorFlow 2.x.<br>\n",
              "We recommend you <a href=\"https://www.tensorflow.org/guide/migrate\" target=\"_blank\">upgrade</a> now \n",
              "or ensure your notebook will continue to use TensorFlow 1.x via the <code>%tensorflow_version 1.x</code> magic:\n",
              "<a href=\"https://colab.research.google.com/notebooks/tensorflow_version.ipynb\" target=\"_blank\">more info</a>.</p>\n"
            ],
            "text/plain": [
              "<IPython.core.display.HTML object>"
            ]
          },
          "metadata": {
            "tags": []
          }
        }
      ]
    },
    {
      "cell_type": "code",
      "metadata": {
        "id": "ut5arJtuA7ci",
        "colab_type": "code",
        "colab": {
          "base_uri": "https://localhost:8080/",
          "height": 34
        },
        "outputId": "305d1dd5-179b-4fda-92f5-07d81a70d18f"
      },
      "source": [
        "# load the training and testing data, scale it into the range [0, 1],\n",
        "# then reshape the design matrix\n",
        "print(\"[INFO] loading CIFAR-10 data...\")\n",
        "((trainX, trainY), (testX, testY)) = cifar10.load_data()\n",
        "trainX = trainX.astype(\"float\") / 255.0\n",
        "testX = testX.astype(\"float\") / 255.0\n",
        "trainX = trainX.reshape((trainX.shape[0], 3072))\n",
        "testX = testX.reshape((testX.shape[0], 3072))"
      ],
      "execution_count": 3,
      "outputs": [
        {
          "output_type": "stream",
          "text": [
            "[INFO] loading CIFAR-10 data...\n"
          ],
          "name": "stdout"
        }
      ]
    },
    {
      "cell_type": "code",
      "metadata": {
        "id": "xra3gQcxBKKf",
        "colab_type": "code",
        "colab": {}
      },
      "source": [
        "lb = LabelBinarizer()\n",
        "trainY = lb.fit_transform(trainY)\n",
        "testY = lb.transform(testY)\n",
        "\n",
        "# initialize the label names for the CIFAR-10 dataset\n",
        "labelNames = [\"airplane\", \"automobile\", \"bird\", \"cat\", \"deer\",\n",
        "\"dog\", \"frog\", \"horse\", \"ship\", \"truck\"]"
      ],
      "execution_count": 0,
      "outputs": []
    },
    {
      "cell_type": "code",
      "metadata": {
        "id": "wzmbLlzBBoml",
        "colab_type": "code",
        "colab": {}
      },
      "source": [
        "# define the 3072-1024-512-10 architecture using Keras\n",
        "model = Sequential()\n",
        "model.add(Dense(1024, input_shape=(3072,), activation=\"relu\"))\n",
        "model.add(Dense(512, activation=\"relu\"))\n",
        "model.add(Dense(10, activation=\"softmax\"))"
      ],
      "execution_count": 0,
      "outputs": []
    },
    {
      "cell_type": "code",
      "metadata": {
        "id": "oNbWlH95B01B",
        "colab_type": "code",
        "colab": {
          "base_uri": "https://localhost:8080/",
          "height": 1000
        },
        "outputId": "c51b7e3e-46bf-4fd8-c9ed-b6d9d4df027f"
      },
      "source": [
        "print(\"[INFO] training network...\")\n",
        "sgd = SGD(0.01)\n",
        "model.compile(loss=\"categorical_crossentropy\", optimizer=sgd,\n",
        "metrics=[\"accuracy\"])\n",
        "H = model.fit(trainX, trainY, validation_data=(testX, testY),\n",
        "epochs=100, batch_size=32)"
      ],
      "execution_count": 9,
      "outputs": [
        {
          "output_type": "stream",
          "text": [
            "[INFO] training network...\n",
            "Train on 50000 samples, validate on 10000 samples\n",
            "Epoch 1/100\n",
            "50000/50000 [==============================] - 8s 156us/step - loss: 1.6502 - acc: 0.4185 - val_loss: 1.6942 - val_acc: 0.4056\n",
            "Epoch 2/100\n",
            "50000/50000 [==============================] - 8s 150us/step - loss: 1.5688 - acc: 0.4453 - val_loss: 1.5809 - val_acc: 0.4333\n",
            "Epoch 3/100\n",
            "50000/50000 [==============================] - 8s 152us/step - loss: 1.5103 - acc: 0.4683 - val_loss: 1.5548 - val_acc: 0.4354\n",
            "Epoch 4/100\n",
            "50000/50000 [==============================] - 8s 152us/step - loss: 1.4617 - acc: 0.4820 - val_loss: 1.4701 - val_acc: 0.4780\n",
            "Epoch 5/100\n",
            "50000/50000 [==============================] - 8s 150us/step - loss: 1.4211 - acc: 0.4986 - val_loss: 1.4448 - val_acc: 0.4839\n",
            "Epoch 6/100\n",
            "50000/50000 [==============================] - 8s 154us/step - loss: 1.3855 - acc: 0.5105 - val_loss: 1.4521 - val_acc: 0.4898\n",
            "Epoch 7/100\n",
            "50000/50000 [==============================] - 8s 152us/step - loss: 1.3529 - acc: 0.5239 - val_loss: 1.4070 - val_acc: 0.4968\n",
            "Epoch 8/100\n",
            "50000/50000 [==============================] - 8s 150us/step - loss: 1.3217 - acc: 0.5329 - val_loss: 1.3995 - val_acc: 0.4939\n",
            "Epoch 9/100\n",
            "50000/50000 [==============================] - 8s 151us/step - loss: 1.2919 - acc: 0.5429 - val_loss: 1.4210 - val_acc: 0.4935\n",
            "Epoch 10/100\n",
            "50000/50000 [==============================] - 8s 150us/step - loss: 1.2680 - acc: 0.5540 - val_loss: 1.4350 - val_acc: 0.4987\n",
            "Epoch 11/100\n",
            "50000/50000 [==============================] - 8s 152us/step - loss: 1.2413 - acc: 0.5631 - val_loss: 1.3413 - val_acc: 0.5180\n",
            "Epoch 12/100\n",
            "50000/50000 [==============================] - 8s 151us/step - loss: 1.2162 - acc: 0.5726 - val_loss: 1.4001 - val_acc: 0.4983\n",
            "Epoch 13/100\n",
            "50000/50000 [==============================] - 8s 151us/step - loss: 1.1923 - acc: 0.5813 - val_loss: 1.3410 - val_acc: 0.5272\n",
            "Epoch 14/100\n",
            "50000/50000 [==============================] - 7s 150us/step - loss: 1.1708 - acc: 0.5900 - val_loss: 1.3180 - val_acc: 0.5275\n",
            "Epoch 15/100\n",
            "50000/50000 [==============================] - 8s 153us/step - loss: 1.1467 - acc: 0.5967 - val_loss: 1.3928 - val_acc: 0.5096\n",
            "Epoch 16/100\n",
            "50000/50000 [==============================] - 8s 151us/step - loss: 1.1243 - acc: 0.6046 - val_loss: 1.4488 - val_acc: 0.5035\n",
            "Epoch 17/100\n",
            "50000/50000 [==============================] - 8s 154us/step - loss: 1.1017 - acc: 0.6143 - val_loss: 1.4273 - val_acc: 0.4954\n",
            "Epoch 18/100\n",
            "50000/50000 [==============================] - 8s 152us/step - loss: 1.0816 - acc: 0.6214 - val_loss: 1.3841 - val_acc: 0.5220\n",
            "Epoch 19/100\n",
            "50000/50000 [==============================] - 7s 149us/step - loss: 1.0593 - acc: 0.6287 - val_loss: 1.4109 - val_acc: 0.5169\n",
            "Epoch 20/100\n",
            "50000/50000 [==============================] - 7s 148us/step - loss: 1.0375 - acc: 0.6351 - val_loss: 1.3105 - val_acc: 0.5385\n",
            "Epoch 21/100\n",
            "50000/50000 [==============================] - 8s 151us/step - loss: 1.0162 - acc: 0.6455 - val_loss: 1.3174 - val_acc: 0.5389\n",
            "Epoch 22/100\n",
            "50000/50000 [==============================] - 7s 147us/step - loss: 0.9947 - acc: 0.6524 - val_loss: 1.3463 - val_acc: 0.5309\n",
            "Epoch 23/100\n",
            "50000/50000 [==============================] - 7s 148us/step - loss: 0.9726 - acc: 0.6597 - val_loss: 1.3970 - val_acc: 0.5101\n",
            "Epoch 24/100\n",
            "50000/50000 [==============================] - 7s 149us/step - loss: 0.9536 - acc: 0.6679 - val_loss: 1.3426 - val_acc: 0.5372\n",
            "Epoch 25/100\n",
            "50000/50000 [==============================] - 7s 149us/step - loss: 0.9323 - acc: 0.6740 - val_loss: 1.3566 - val_acc: 0.5314\n",
            "Epoch 26/100\n",
            "50000/50000 [==============================] - 7s 147us/step - loss: 0.9071 - acc: 0.6843 - val_loss: 1.3545 - val_acc: 0.5337\n",
            "Epoch 27/100\n",
            "50000/50000 [==============================] - 7s 149us/step - loss: 0.8921 - acc: 0.6869 - val_loss: 1.3956 - val_acc: 0.5304\n",
            "Epoch 28/100\n",
            "50000/50000 [==============================] - 7s 146us/step - loss: 0.8670 - acc: 0.7002 - val_loss: 1.3622 - val_acc: 0.5381\n",
            "Epoch 29/100\n",
            "50000/50000 [==============================] - 7s 148us/step - loss: 0.8473 - acc: 0.7047 - val_loss: 1.4513 - val_acc: 0.5119\n",
            "Epoch 30/100\n",
            "50000/50000 [==============================] - 7s 150us/step - loss: 0.8305 - acc: 0.7109 - val_loss: 1.4192 - val_acc: 0.5229\n",
            "Epoch 31/100\n",
            "50000/50000 [==============================] - 8s 150us/step - loss: 0.8099 - acc: 0.7176 - val_loss: 1.3670 - val_acc: 0.5423\n",
            "Epoch 32/100\n",
            "50000/50000 [==============================] - 7s 148us/step - loss: 0.7890 - acc: 0.7290 - val_loss: 1.4441 - val_acc: 0.5191\n",
            "Epoch 33/100\n",
            "50000/50000 [==============================] - 7s 147us/step - loss: 0.7671 - acc: 0.7340 - val_loss: 1.3770 - val_acc: 0.5387\n",
            "Epoch 34/100\n",
            "50000/50000 [==============================] - 7s 146us/step - loss: 0.7465 - acc: 0.7422 - val_loss: 1.4688 - val_acc: 0.5200\n",
            "Epoch 35/100\n",
            "50000/50000 [==============================] - 7s 146us/step - loss: 0.7273 - acc: 0.7502 - val_loss: 1.3787 - val_acc: 0.5452\n",
            "Epoch 36/100\n",
            "50000/50000 [==============================] - 7s 148us/step - loss: 0.7044 - acc: 0.7568 - val_loss: 1.5416 - val_acc: 0.5161\n",
            "Epoch 37/100\n",
            "50000/50000 [==============================] - 7s 150us/step - loss: 0.6888 - acc: 0.7633 - val_loss: 1.4165 - val_acc: 0.5407\n",
            "Epoch 38/100\n",
            "50000/50000 [==============================] - 7s 150us/step - loss: 0.6637 - acc: 0.7728 - val_loss: 1.4854 - val_acc: 0.5354\n",
            "Epoch 39/100\n",
            "50000/50000 [==============================] - 7s 147us/step - loss: 0.6506 - acc: 0.7759 - val_loss: 1.4809 - val_acc: 0.5319\n",
            "Epoch 40/100\n",
            "50000/50000 [==============================] - 7s 145us/step - loss: 0.6240 - acc: 0.7864 - val_loss: 1.4301 - val_acc: 0.5504\n",
            "Epoch 41/100\n",
            "50000/50000 [==============================] - 7s 147us/step - loss: 0.6060 - acc: 0.7927 - val_loss: 1.6268 - val_acc: 0.5112\n",
            "Epoch 42/100\n",
            "50000/50000 [==============================] - 7s 144us/step - loss: 0.5872 - acc: 0.8014 - val_loss: 1.5008 - val_acc: 0.5288\n",
            "Epoch 43/100\n",
            "50000/50000 [==============================] - 7s 147us/step - loss: 0.5669 - acc: 0.8077 - val_loss: 1.5182 - val_acc: 0.5443\n",
            "Epoch 44/100\n",
            "50000/50000 [==============================] - 7s 144us/step - loss: 0.5507 - acc: 0.8151 - val_loss: 1.5837 - val_acc: 0.5276\n",
            "Epoch 45/100\n",
            "50000/50000 [==============================] - 7s 146us/step - loss: 0.5319 - acc: 0.8196 - val_loss: 1.4662 - val_acc: 0.5504\n",
            "Epoch 46/100\n",
            "50000/50000 [==============================] - 7s 146us/step - loss: 0.5123 - acc: 0.8267 - val_loss: 1.9105 - val_acc: 0.4950\n",
            "Epoch 47/100\n",
            "50000/50000 [==============================] - 7s 145us/step - loss: 0.4939 - acc: 0.8338 - val_loss: 1.7280 - val_acc: 0.5235\n",
            "Epoch 48/100\n",
            "50000/50000 [==============================] - 7s 146us/step - loss: 0.4762 - acc: 0.8424 - val_loss: 1.5113 - val_acc: 0.5525\n",
            "Epoch 49/100\n",
            "50000/50000 [==============================] - 7s 148us/step - loss: 0.4650 - acc: 0.8428 - val_loss: 1.4801 - val_acc: 0.5583\n",
            "Epoch 50/100\n",
            "50000/50000 [==============================] - 7s 146us/step - loss: 0.4435 - acc: 0.8519 - val_loss: 1.5313 - val_acc: 0.5542\n",
            "Epoch 51/100\n",
            "50000/50000 [==============================] - 7s 144us/step - loss: 0.4268 - acc: 0.8590 - val_loss: 1.7262 - val_acc: 0.5302\n",
            "Epoch 52/100\n",
            "50000/50000 [==============================] - 7s 145us/step - loss: 0.4110 - acc: 0.8653 - val_loss: 1.6530 - val_acc: 0.5398\n",
            "Epoch 53/100\n",
            "50000/50000 [==============================] - 7s 146us/step - loss: 0.3934 - acc: 0.8712 - val_loss: 1.6552 - val_acc: 0.5372\n",
            "Epoch 54/100\n",
            "50000/50000 [==============================] - 7s 146us/step - loss: 0.3803 - acc: 0.8753 - val_loss: 1.6811 - val_acc: 0.5460\n",
            "Epoch 55/100\n",
            "50000/50000 [==============================] - 7s 145us/step - loss: 0.3610 - acc: 0.8814 - val_loss: 1.7301 - val_acc: 0.5310\n",
            "Epoch 56/100\n",
            "50000/50000 [==============================] - 7s 146us/step - loss: 0.3478 - acc: 0.8882 - val_loss: 1.7356 - val_acc: 0.5359\n",
            "Epoch 57/100\n",
            "50000/50000 [==============================] - 7s 144us/step - loss: 0.3373 - acc: 0.8896 - val_loss: 1.7271 - val_acc: 0.5410\n",
            "Epoch 58/100\n",
            "50000/50000 [==============================] - 7s 146us/step - loss: 0.3253 - acc: 0.8948 - val_loss: 2.2054 - val_acc: 0.4789\n",
            "Epoch 59/100\n",
            "50000/50000 [==============================] - 7s 144us/step - loss: 0.3041 - acc: 0.9044 - val_loss: 1.7535 - val_acc: 0.5418\n",
            "Epoch 60/100\n",
            "50000/50000 [==============================] - 7s 144us/step - loss: 0.2966 - acc: 0.9066 - val_loss: 1.8726 - val_acc: 0.5286\n",
            "Epoch 61/100\n",
            "50000/50000 [==============================] - 7s 145us/step - loss: 0.2778 - acc: 0.9131 - val_loss: 2.0536 - val_acc: 0.5141\n",
            "Epoch 62/100\n",
            "50000/50000 [==============================] - 7s 146us/step - loss: 0.2669 - acc: 0.9173 - val_loss: 1.8399 - val_acc: 0.5459\n",
            "Epoch 63/100\n",
            "50000/50000 [==============================] - 7s 145us/step - loss: 0.2562 - acc: 0.9205 - val_loss: 1.7805 - val_acc: 0.5537\n",
            "Epoch 64/100\n",
            "50000/50000 [==============================] - 7s 145us/step - loss: 0.2415 - acc: 0.9269 - val_loss: 1.7411 - val_acc: 0.5673\n",
            "Epoch 65/100\n",
            "50000/50000 [==============================] - 7s 144us/step - loss: 0.2281 - acc: 0.9304 - val_loss: 1.7680 - val_acc: 0.5620\n",
            "Epoch 66/100\n",
            "50000/50000 [==============================] - 7s 147us/step - loss: 0.2198 - acc: 0.9339 - val_loss: 1.9615 - val_acc: 0.5434\n",
            "Epoch 67/100\n",
            "50000/50000 [==============================] - 7s 145us/step - loss: 0.2106 - acc: 0.9371 - val_loss: 1.8075 - val_acc: 0.5592\n",
            "Epoch 68/100\n",
            "50000/50000 [==============================] - 7s 143us/step - loss: 0.1978 - acc: 0.9418 - val_loss: 2.0350 - val_acc: 0.5403\n",
            "Epoch 69/100\n",
            "50000/50000 [==============================] - 7s 147us/step - loss: 0.1947 - acc: 0.9409 - val_loss: 1.8163 - val_acc: 0.5670\n",
            "Epoch 70/100\n",
            "50000/50000 [==============================] - 7s 144us/step - loss: 0.1792 - acc: 0.9486 - val_loss: 1.9746 - val_acc: 0.5504\n",
            "Epoch 71/100\n",
            "50000/50000 [==============================] - 7s 147us/step - loss: 0.1677 - acc: 0.9525 - val_loss: 2.0113 - val_acc: 0.5386\n",
            "Epoch 72/100\n",
            "50000/50000 [==============================] - 7s 145us/step - loss: 0.1643 - acc: 0.9536 - val_loss: 2.0013 - val_acc: 0.5502\n",
            "Epoch 73/100\n",
            "50000/50000 [==============================] - 7s 148us/step - loss: 0.1535 - acc: 0.9585 - val_loss: 2.2444 - val_acc: 0.5295\n",
            "Epoch 74/100\n",
            "50000/50000 [==============================] - 7s 147us/step - loss: 0.1447 - acc: 0.9600 - val_loss: 1.9102 - val_acc: 0.5635\n",
            "Epoch 75/100\n",
            "50000/50000 [==============================] - 7s 145us/step - loss: 0.1365 - acc: 0.9625 - val_loss: 2.0501 - val_acc: 0.5427\n",
            "Epoch 76/100\n",
            "50000/50000 [==============================] - 7s 144us/step - loss: 0.1269 - acc: 0.9676 - val_loss: 1.9392 - val_acc: 0.5584\n",
            "Epoch 77/100\n",
            "50000/50000 [==============================] - 7s 145us/step - loss: 0.1193 - acc: 0.9700 - val_loss: 1.9671 - val_acc: 0.5667\n",
            "Epoch 78/100\n",
            "50000/50000 [==============================] - 7s 144us/step - loss: 0.1181 - acc: 0.9698 - val_loss: 1.9869 - val_acc: 0.5650\n",
            "Epoch 79/100\n",
            "50000/50000 [==============================] - 7s 147us/step - loss: 0.1092 - acc: 0.9721 - val_loss: 2.1501 - val_acc: 0.5424\n",
            "Epoch 80/100\n",
            "50000/50000 [==============================] - 7s 144us/step - loss: 0.0956 - acc: 0.9780 - val_loss: 2.3099 - val_acc: 0.5324\n",
            "Epoch 81/100\n",
            "50000/50000 [==============================] - 7s 143us/step - loss: 0.0936 - acc: 0.9782 - val_loss: 2.0557 - val_acc: 0.5548\n",
            "Epoch 82/100\n",
            "50000/50000 [==============================] - 7s 148us/step - loss: 0.0922 - acc: 0.9783 - val_loss: 2.0715 - val_acc: 0.5572\n",
            "Epoch 83/100\n",
            "50000/50000 [==============================] - 7s 145us/step - loss: 0.0768 - acc: 0.9848 - val_loss: 2.1323 - val_acc: 0.5568\n",
            "Epoch 84/100\n",
            "50000/50000 [==============================] - 7s 143us/step - loss: 0.0753 - acc: 0.9835 - val_loss: 2.2089 - val_acc: 0.5455\n",
            "Epoch 85/100\n",
            "50000/50000 [==============================] - 7s 146us/step - loss: 0.0732 - acc: 0.9841 - val_loss: 2.1536 - val_acc: 0.5600\n",
            "Epoch 86/100\n",
            "50000/50000 [==============================] - 7s 142us/step - loss: 0.0652 - acc: 0.9872 - val_loss: 2.0703 - val_acc: 0.5675\n",
            "Epoch 87/100\n",
            "50000/50000 [==============================] - 7s 144us/step - loss: 0.0625 - acc: 0.9882 - val_loss: 2.1225 - val_acc: 0.5627\n",
            "Epoch 88/100\n",
            "50000/50000 [==============================] - 7s 146us/step - loss: 0.0636 - acc: 0.9864 - val_loss: 2.2798 - val_acc: 0.5532\n",
            "Epoch 89/100\n",
            "50000/50000 [==============================] - 7s 143us/step - loss: 0.0581 - acc: 0.9889 - val_loss: 2.1585 - val_acc: 0.5656\n",
            "Epoch 90/100\n",
            "50000/50000 [==============================] - 7s 144us/step - loss: 0.0518 - acc: 0.9908 - val_loss: 2.1905 - val_acc: 0.5632\n",
            "Epoch 91/100\n",
            "50000/50000 [==============================] - 7s 145us/step - loss: 0.0451 - acc: 0.9932 - val_loss: 2.1690 - val_acc: 0.5662\n",
            "Epoch 92/100\n",
            "50000/50000 [==============================] - 7s 145us/step - loss: 0.0450 - acc: 0.9926 - val_loss: 2.1688 - val_acc: 0.5664\n",
            "Epoch 93/100\n",
            "50000/50000 [==============================] - 7s 146us/step - loss: 0.0402 - acc: 0.9943 - val_loss: 2.2145 - val_acc: 0.5678\n",
            "Epoch 94/100\n",
            "50000/50000 [==============================] - 7s 145us/step - loss: 0.0544 - acc: 0.9892 - val_loss: 2.1916 - val_acc: 0.5608\n",
            "Epoch 95/100\n",
            "50000/50000 [==============================] - 7s 144us/step - loss: 0.0361 - acc: 0.9952 - val_loss: 2.3027 - val_acc: 0.5621\n",
            "Epoch 96/100\n",
            "50000/50000 [==============================] - 7s 145us/step - loss: 0.0333 - acc: 0.9958 - val_loss: 2.2247 - val_acc: 0.5687\n",
            "Epoch 97/100\n",
            "50000/50000 [==============================] - 7s 143us/step - loss: 0.0298 - acc: 0.9963 - val_loss: 2.2147 - val_acc: 0.5686\n",
            "Epoch 98/100\n",
            "50000/50000 [==============================] - 7s 145us/step - loss: 0.0290 - acc: 0.9968 - val_loss: 2.2748 - val_acc: 0.5649\n",
            "Epoch 99/100\n",
            "50000/50000 [==============================] - 7s 145us/step - loss: 0.0264 - acc: 0.9970 - val_loss: 2.2975 - val_acc: 0.5647\n",
            "Epoch 100/100\n",
            "50000/50000 [==============================] - 7s 146us/step - loss: 0.0260 - acc: 0.9971 - val_loss: 2.2613 - val_acc: 0.5713\n"
          ],
          "name": "stdout"
        }
      ]
    },
    {
      "cell_type": "code",
      "metadata": {
        "id": "n34s5f5BCKnD",
        "colab_type": "code",
        "colab": {
          "base_uri": "https://localhost:8080/",
          "height": 299
        },
        "outputId": "6ef33d8c-85ef-41fb-ef91-52a45a64d596"
      },
      "source": [
        "plt.style.use(\"ggplot\")\n",
        "plt.figure()\n",
        "plt.plot(np.arange(0, 100), H.history[\"loss\"], label=\"train_loss\")\n",
        "plt.plot(np.arange(0, 100), H.history[\"val_loss\"], label=\"val_loss\")\n",
        "plt.plot(np.arange(0, 100), H.history[\"acc\"], label=\"train_acc\")\n",
        "plt.plot(np.arange(0, 100), H.history[\"val_acc\"], label=\"val_acc\")\n",
        "plt.title(\"Training Loss and Accuracy\")\n",
        "plt.ylabel(\"Loss/Accuracy\")\n",
        "plt.legend()\n"
      ],
      "execution_count": 10,
      "outputs": [
        {
          "output_type": "execute_result",
          "data": {
            "text/plain": [
              "<matplotlib.legend.Legend at 0x7fe4d9007358>"
            ]
          },
          "metadata": {
            "tags": []
          },
          "execution_count": 10
        },
        {
          "output_type": "display_data",
          "data": {
            "image/png": "[encoded data removed]",
            "text/plain": [
              "<Figure size 432x288 with 1 Axes>"
            ]
          },
          "metadata": {
            "tags": []
          }
        }
      ]
    },
    {
      "cell_type": "code",
      "metadata": {
        "id": "mcpTQgNfF_Oi",
        "colab_type": "code",
        "colab": {}
      },
      "source": [
        "#We will improve the validation performance using CNN"
      ],
      "execution_count": 0,
      "outputs": []
    },
    {
      "cell_type": "code",
      "metadata": {
        "id": "rrTBhFG0GGwK",
        "colab_type": "code",
        "colab": {}
      },
      "source": [
        ""
      ],
      "execution_count": 0,
      "outputs": []
    }
  ]
}