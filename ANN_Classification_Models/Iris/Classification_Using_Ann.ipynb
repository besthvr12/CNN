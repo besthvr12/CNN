{
 "cells": [
  {
   "cell_type": "code",
   "execution_count": 253,
   "metadata": {},
   "outputs": [],
   "source": [
    "import numpy as np\n",
    "import matplotlib.pyplot as plt\n",
    "import pandas as pd\n",
    "import seaborn as sns"
   ]
  },
  {
   "cell_type": "code",
   "execution_count": 112,
   "metadata": {},
   "outputs": [],
   "source": [
    "df = pd.read_csv('IRIS.csv')"
   ]
  },
  {
   "cell_type": "code",
   "execution_count": 113,
   "metadata": {},
   "outputs": [
    {
     "data": {
      "text/html": [
       "<div>\n",
       "<style scoped>\n",
       "    .dataframe tbody tr th:only-of-type {\n",
       "        vertical-align: middle;\n",
       "    }\n",
       "\n",
       "    .dataframe tbody tr th {\n",
       "        vertical-align: top;\n",
       "    }\n",
       "\n",
       "    .dataframe thead th {\n",
       "        text-align: right;\n",
       "    }\n",
       "</style>\n",
       "<table border=\"1\" class=\"dataframe\">\n",
       "  <thead>\n",
       "    <tr style=\"text-align: right;\">\n",
       "      <th></th>\n",
       "      <th>sepal_length</th>\n",
       "      <th>sepal_width</th>\n",
       "      <th>petal_length</th>\n",
       "      <th>petal_width</th>\n",
       "      <th>species</th>\n",
       "    </tr>\n",
       "  </thead>\n",
       "  <tbody>\n",
       "    <tr>\n",
       "      <td>0</td>\n",
       "      <td>5.1</td>\n",
       "      <td>3.5</td>\n",
       "      <td>1.4</td>\n",
       "      <td>0.2</td>\n",
       "      <td>Iris-setosa</td>\n",
       "    </tr>\n",
       "    <tr>\n",
       "      <td>1</td>\n",
       "      <td>4.9</td>\n",
       "      <td>3.0</td>\n",
       "      <td>1.4</td>\n",
       "      <td>0.2</td>\n",
       "      <td>Iris-setosa</td>\n",
       "    </tr>\n",
       "    <tr>\n",
       "      <td>2</td>\n",
       "      <td>4.7</td>\n",
       "      <td>3.2</td>\n",
       "      <td>1.3</td>\n",
       "      <td>0.2</td>\n",
       "      <td>Iris-setosa</td>\n",
       "    </tr>\n",
       "    <tr>\n",
       "      <td>3</td>\n",
       "      <td>4.6</td>\n",
       "      <td>3.1</td>\n",
       "      <td>1.5</td>\n",
       "      <td>0.2</td>\n",
       "      <td>Iris-setosa</td>\n",
       "    </tr>\n",
       "    <tr>\n",
       "      <td>4</td>\n",
       "      <td>5.0</td>\n",
       "      <td>3.6</td>\n",
       "      <td>1.4</td>\n",
       "      <td>0.2</td>\n",
       "      <td>Iris-setosa</td>\n",
       "    </tr>\n",
       "  </tbody>\n",
       "</table>\n",
       "</div>"
      ],
      "text/plain": [
       "   sepal_length  sepal_width  petal_length  petal_width      species\n",
       "0           5.1          3.5           1.4          0.2  Iris-setosa\n",
       "1           4.9          3.0           1.4          0.2  Iris-setosa\n",
       "2           4.7          3.2           1.3          0.2  Iris-setosa\n",
       "3           4.6          3.1           1.5          0.2  Iris-setosa\n",
       "4           5.0          3.6           1.4          0.2  Iris-setosa"
      ]
     },
     "execution_count": 113,
     "metadata": {},
     "output_type": "execute_result"
    }
   ],
   "source": [
    "df.head()"
   ]
  },
  {
   "cell_type": "code",
   "execution_count": 114,
   "metadata": {},
   "outputs": [
    {
     "data": {
      "text/html": [
       "<div>\n",
       "<style scoped>\n",
       "    .dataframe tbody tr th:only-of-type {\n",
       "        vertical-align: middle;\n",
       "    }\n",
       "\n",
       "    .dataframe tbody tr th {\n",
       "        vertical-align: top;\n",
       "    }\n",
       "\n",
       "    .dataframe thead th {\n",
       "        text-align: right;\n",
       "    }\n",
       "</style>\n",
       "<table border=\"1\" class=\"dataframe\">\n",
       "  <thead>\n",
       "    <tr style=\"text-align: right;\">\n",
       "      <th></th>\n",
       "      <th>sepal_length</th>\n",
       "      <th>sepal_width</th>\n",
       "      <th>petal_length</th>\n",
       "      <th>petal_width</th>\n",
       "    </tr>\n",
       "  </thead>\n",
       "  <tbody>\n",
       "    <tr>\n",
       "      <td>count</td>\n",
       "      <td>150.000000</td>\n",
       "      <td>150.000000</td>\n",
       "      <td>150.000000</td>\n",
       "      <td>150.000000</td>\n",
       "    </tr>\n",
       "    <tr>\n",
       "      <td>mean</td>\n",
       "      <td>5.843333</td>\n",
       "      <td>3.054000</td>\n",
       "      <td>3.758667</td>\n",
       "      <td>1.198667</td>\n",
       "    </tr>\n",
       "    <tr>\n",
       "      <td>std</td>\n",
       "      <td>0.828066</td>\n",
       "      <td>0.433594</td>\n",
       "      <td>1.764420</td>\n",
       "      <td>0.763161</td>\n",
       "    </tr>\n",
       "    <tr>\n",
       "      <td>min</td>\n",
       "      <td>4.300000</td>\n",
       "      <td>2.000000</td>\n",
       "      <td>1.000000</td>\n",
       "      <td>0.100000</td>\n",
       "    </tr>\n",
       "    <tr>\n",
       "      <td>25%</td>\n",
       "      <td>5.100000</td>\n",
       "      <td>2.800000</td>\n",
       "      <td>1.600000</td>\n",
       "      <td>0.300000</td>\n",
       "    </tr>\n",
       "    <tr>\n",
       "      <td>50%</td>\n",
       "      <td>5.800000</td>\n",
       "      <td>3.000000</td>\n",
       "      <td>4.350000</td>\n",
       "      <td>1.300000</td>\n",
       "    </tr>\n",
       "    <tr>\n",
       "      <td>75%</td>\n",
       "      <td>6.400000</td>\n",
       "      <td>3.300000</td>\n",
       "      <td>5.100000</td>\n",
       "      <td>1.800000</td>\n",
       "    </tr>\n",
       "    <tr>\n",
       "      <td>max</td>\n",
       "      <td>7.900000</td>\n",
       "      <td>4.400000</td>\n",
       "      <td>6.900000</td>\n",
       "      <td>2.500000</td>\n",
       "    </tr>\n",
       "  </tbody>\n",
       "</table>\n",
       "</div>"
      ],
      "text/plain": [
       "       sepal_length  sepal_width  petal_length  petal_width\n",
       "count    150.000000   150.000000    150.000000   150.000000\n",
       "mean       5.843333     3.054000      3.758667     1.198667\n",
       "std        0.828066     0.433594      1.764420     0.763161\n",
       "min        4.300000     2.000000      1.000000     0.100000\n",
       "25%        5.100000     2.800000      1.600000     0.300000\n",
       "50%        5.800000     3.000000      4.350000     1.300000\n",
       "75%        6.400000     3.300000      5.100000     1.800000\n",
       "max        7.900000     4.400000      6.900000     2.500000"
      ]
     },
     "execution_count": 114,
     "metadata": {},
     "output_type": "execute_result"
    }
   ],
   "source": [
    "df.describe()"
   ]
  },
  {
   "cell_type": "code",
   "execution_count": 267,
   "metadata": {},
   "outputs": [],
   "source": [
    "\n",
    "X = df.iloc[:, 0:4].values\n",
    "y = df.iloc[:, 4].values\n",
    "\n",
    "\n"
   ]
  },
  {
   "cell_type": "code",
   "execution_count": 228,
   "metadata": {},
   "outputs": [],
   "source": [
    "from sklearn.model_selection import train_test_split\n",
    "X_train, X_test, y_train, y_test = train_test_split(X, Y, test_size = 0.2, random_state = 0)\n"
   ]
  },
  {
   "cell_type": "code",
   "execution_count": 229,
   "metadata": {},
   "outputs": [],
   "source": [
    "from sklearn.preprocessing import StandardScaler\n",
    "sc = StandardScaler()\n",
    "X_train = sc.fit_transform(X_train)\n",
    "X_test = sc.transform(X_test)\n"
   ]
  },
  {
   "cell_type": "code",
   "execution_count": 265,
   "metadata": {},
   "outputs": [
    {
     "data": {
      "text/plain": [
       "<matplotlib.collections.PathCollection at 0x260ee8f6448>"
      ]
     },
     "execution_count": 265,
     "metadata": {},
     "output_type": "execute_result"
    },
    {
     "data": {
      "image/png": "[encoded data removed]",
      "text/plain": [
       "<Figure size 432x288 with 1 Axes>"
      ]
     },
     "metadata": {
      "needs_background": "light"
     },
     "output_type": "display_data"
    }
   ],
   "source": [
    "plt.scatter(X[:,1],y)\n"
   ]
  },
  {
   "cell_type": "code",
   "execution_count": 272,
   "metadata": {},
   "outputs": [],
   "source": [
    "Y=pd.get_dummies(df['species'])"
   ]
  },
  {
   "cell_type": "code",
   "execution_count": 271,
   "metadata": {},
   "outputs": [
    {
     "data": {
      "text/plain": [
       "<matplotlib.axes._subplots.AxesSubplot at 0x260ed203348>"
      ]
     },
     "execution_count": 271,
     "metadata": {},
     "output_type": "execute_result"
    },
    {
     "data": {
      "image/png": "[encoded data removed]",
      "text/plain": [
       "<Figure size 432x288 with 1 Axes>"
      ]
     },
     "metadata": {
      "needs_background": "light"
     },
     "output_type": "display_data"
    }
   ],
   "source": [
    "sns.countplot(x='species',data=df)"
   ]
  },
  {
   "cell_type": "code",
   "execution_count": 181,
   "metadata": {},
   "outputs": [],
   "source": [
    "import keras\n",
    "from keras.models import Sequential\n",
    "from keras.layers import Dense\n",
    "\n"
   ]
  },
  {
   "cell_type": "code",
   "execution_count": 238,
   "metadata": {},
   "outputs": [],
   "source": [
    "# Initialising the ANN\n",
    "classifier = Sequential()\n",
    "\n",
    "# Adding the input layer and the first hidden layer\n",
    "classifier.add(Dense(units = 4, kernel_initializer = 'uniform', activation = 'relu', input_dim = 4))"
   ]
  },
  {
   "cell_type": "code",
   "execution_count": 239,
   "metadata": {},
   "outputs": [],
   "source": [
    "# Adding the output layer\n",
    "classifier.add(Dense(units = 3, kernel_initializer = 'uniform', activation = 'softmax'))"
   ]
  },
  {
   "cell_type": "code",
   "execution_count": 240,
   "metadata": {},
   "outputs": [],
   "source": [
    "classifier.compile(optimizer = 'adam', loss = 'categorical_crossentropy', metrics = ['accuracy'])"
   ]
  },
  {
   "cell_type": "code",
   "execution_count": 241,
   "metadata": {},
   "outputs": [],
   "source": [
    "import os\n",
    "os.environ['TF_CPP_MIN_LOG_LEVEL']='2'\n"
   ]
  },
  {
   "cell_type": "code",
   "execution_count": 242,
   "metadata": {},
   "outputs": [
    {
     "name": "stdout",
     "output_type": "stream",
     "text": [
      "Epoch 1/100\n",
      "120/120 [==============================] - 1s 8ms/step - loss: 1.0976 - acc: 0.3500\n",
      "Epoch 2/100\n",
      "120/120 [==============================] - 0s 349us/step - loss: 1.0948 - acc: 0.3667\n",
      "Epoch 3/100\n",
      "120/120 [==============================] - 0s 430us/step - loss: 1.0907 - acc: 0.3667\n",
      "Epoch 4/100\n",
      "120/120 [==============================] - 0s 324us/step - loss: 1.0852 - acc: 0.3667\n",
      "Epoch 5/100\n",
      "120/120 [==============================] - 0s 457us/step - loss: 1.0782 - acc: 0.3667\n",
      "Epoch 6/100\n",
      "120/120 [==============================] - 0s 398us/step - loss: 1.0684 - acc: 0.3667\n",
      "Epoch 7/100\n",
      "120/120 [==============================] - 0s 471us/step - loss: 1.0571 - acc: 0.3667\n",
      "Epoch 8/100\n",
      "120/120 [==============================] - 0s 407us/step - loss: 1.0435 - acc: 0.3667\n",
      "Epoch 9/100\n",
      "120/120 [==============================] - 0s 341us/step - loss: 1.0283 - acc: 0.3667\n",
      "Epoch 10/100\n",
      "120/120 [==============================] - 0s 414us/step - loss: 1.0124 - acc: 0.3667\n",
      "Epoch 11/100\n",
      "120/120 [==============================] - 0s 374us/step - loss: 0.9954 - acc: 0.3667\n",
      "Epoch 12/100\n",
      "120/120 [==============================] - 0s 512us/step - loss: 0.9769 - acc: 0.3917\n",
      "Epoch 13/100\n",
      "120/120 [==============================] - 0s 283us/step - loss: 0.9588 - acc: 0.6917\n",
      "Epoch 14/100\n",
      "120/120 [==============================] - 0s 341us/step - loss: 0.9403 - acc: 0.7000\n",
      "Epoch 15/100\n",
      "120/120 [==============================] - 0s 339us/step - loss: 0.9217 - acc: 0.7083\n",
      "Epoch 16/100\n",
      "120/120 [==============================] - 0s 376us/step - loss: 0.9047 - acc: 0.7083\n",
      "Epoch 17/100\n",
      "120/120 [==============================] - 0s 402us/step - loss: 0.8890 - acc: 0.7083\n",
      "Epoch 18/100\n",
      "120/120 [==============================] - 0s 408us/step - loss: 0.8729 - acc: 0.7167\n",
      "Epoch 19/100\n",
      "120/120 [==============================] - 0s 269us/step - loss: 0.8586 - acc: 0.7250\n",
      "Epoch 20/100\n",
      "120/120 [==============================] - 0s 374us/step - loss: 0.8449 - acc: 0.7333\n",
      "Epoch 21/100\n",
      "120/120 [==============================] - 0s 332us/step - loss: 0.8325 - acc: 0.7333\n",
      "Epoch 22/100\n",
      "120/120 [==============================] - 0s 249us/step - loss: 0.8204 - acc: 0.7500\n",
      "Epoch 23/100\n",
      "120/120 [==============================] - 0s 457us/step - loss: 0.8089 - acc: 0.7500\n",
      "Epoch 24/100\n",
      "120/120 [==============================] - 0s 422us/step - loss: 0.7983 - acc: 0.7500\n",
      "Epoch 25/100\n",
      "120/120 [==============================] - 0s 657us/step - loss: 0.7878 - acc: 0.7750\n",
      "Epoch 26/100\n",
      "120/120 [==============================] - 0s 549us/step - loss: 0.7776 - acc: 0.7833\n",
      "Epoch 27/100\n",
      "120/120 [==============================] - 0s 590us/step - loss: 0.7676 - acc: 0.7750\n",
      "Epoch 28/100\n",
      "120/120 [==============================] - 0s 562us/step - loss: 0.7581 - acc: 0.7750\n",
      "Epoch 29/100\n",
      "120/120 [==============================] - 0s 632us/step - loss: 0.7490 - acc: 0.8000\n",
      "Epoch 30/100\n",
      "120/120 [==============================] - 0s 540us/step - loss: 0.7398 - acc: 0.8000\n",
      "Epoch 31/100\n",
      "120/120 [==============================] - 0s 595us/step - loss: 0.7308 - acc: 0.8083\n",
      "Epoch 32/100\n",
      "120/120 [==============================] - 0s 601us/step - loss: 0.7225 - acc: 0.8250\n",
      "Epoch 33/100\n",
      "120/120 [==============================] - 0s 381us/step - loss: 0.7137 - acc: 0.8250\n",
      "Epoch 34/100\n",
      "120/120 [==============================] - 0s 555us/step - loss: 0.7056 - acc: 0.8333\n",
      "Epoch 35/100\n",
      "120/120 [==============================] - 0s 307us/step - loss: 0.6973 - acc: 0.8417\n",
      "Epoch 36/100\n",
      "120/120 [==============================] - 0s 274us/step - loss: 0.6892 - acc: 0.8417\n",
      "Epoch 37/100\n",
      "120/120 [==============================] - 0s 299us/step - loss: 0.6816 - acc: 0.8500\n",
      "Epoch 38/100\n",
      "120/120 [==============================] - 0s 383us/step - loss: 0.6735 - acc: 0.8500\n",
      "Epoch 39/100\n",
      "120/120 [==============================] - 0s 317us/step - loss: 0.6664 - acc: 0.8500\n",
      "Epoch 40/100\n",
      "120/120 [==============================] - 0s 369us/step - loss: 0.6584 - acc: 0.8500\n",
      "Epoch 41/100\n",
      "120/120 [==============================] - 0s 407us/step - loss: 0.6516 - acc: 0.8583\n",
      "Epoch 42/100\n",
      "120/120 [==============================] - 0s 773us/step - loss: 0.6440 - acc: 0.8583\n",
      "Epoch 43/100\n",
      "120/120 [==============================] - 0s 317us/step - loss: 0.6375 - acc: 0.8500\n",
      "Epoch 44/100\n",
      "120/120 [==============================] - 0s 324us/step - loss: 0.6305 - acc: 0.8583\n",
      "Epoch 45/100\n",
      "120/120 [==============================] - 0s 334us/step - loss: 0.6234 - acc: 0.8583\n",
      "Epoch 46/100\n",
      "120/120 [==============================] - 0s 265us/step - loss: 0.6172 - acc: 0.8583\n",
      "Epoch 47/100\n",
      "120/120 [==============================] - 0s 640us/step - loss: 0.6107 - acc: 0.8583\n",
      "Epoch 48/100\n",
      "120/120 [==============================] - 0s 341us/step - loss: 0.6044 - acc: 0.8583\n",
      "Epoch 49/100\n",
      "120/120 [==============================] - 0s 407us/step - loss: 0.5982 - acc: 0.8583\n",
      "Epoch 50/100\n",
      "120/120 [==============================] - 0s 271us/step - loss: 0.5923 - acc: 0.8583\n",
      "Epoch 51/100\n",
      "120/120 [==============================] - 0s 497us/step - loss: 0.5868 - acc: 0.8583\n",
      "Epoch 52/100\n",
      "120/120 [==============================] - 0s 698us/step - loss: 0.5808 - acc: 0.8583\n",
      "Epoch 53/100\n",
      "120/120 [==============================] - 0s 465us/step - loss: 0.5752 - acc: 0.8667\n",
      "Epoch 54/100\n",
      "120/120 [==============================] - 0s 341us/step - loss: 0.5697 - acc: 0.8667\n",
      "Epoch 55/100\n",
      "120/120 [==============================] - 0s 389us/step - loss: 0.5639 - acc: 0.8667\n",
      "Epoch 56/100\n",
      "120/120 [==============================] - 0s 374us/step - loss: 0.5586 - acc: 0.8667\n",
      "Epoch 57/100\n",
      "120/120 [==============================] - 0s 415us/step - loss: 0.5531 - acc: 0.8667\n",
      "Epoch 58/100\n",
      "120/120 [==============================] - 0s 291us/step - loss: 0.5479 - acc: 0.8667\n",
      "Epoch 59/100\n",
      "120/120 [==============================] - 0s 293us/step - loss: 0.5430 - acc: 0.8667\n",
      "Epoch 60/100\n",
      "120/120 [==============================] - 0s 224us/step - loss: 0.5375 - acc: 0.8667\n",
      "Epoch 61/100\n",
      "120/120 [==============================] - 0s 441us/step - loss: 0.5325 - acc: 0.8750\n",
      "Epoch 62/100\n",
      "120/120 [==============================] - 0s 432us/step - loss: 0.5279 - acc: 0.8750\n",
      "Epoch 63/100\n",
      "120/120 [==============================] - 0s 391us/step - loss: 0.5225 - acc: 0.8750\n",
      "Epoch 64/100\n",
      "120/120 [==============================] - 0s 386us/step - loss: 0.5178 - acc: 0.8750\n",
      "Epoch 65/100\n",
      "120/120 [==============================] - 0s 288us/step - loss: 0.5131 - acc: 0.8750\n",
      "Epoch 66/100\n",
      "120/120 [==============================] - 0s 274us/step - loss: 0.5083 - acc: 0.8750\n",
      "Epoch 67/100\n",
      "120/120 [==============================] - 0s 266us/step - loss: 0.5037 - acc: 0.8750\n",
      "Epoch 68/100\n",
      "120/120 [==============================] - 0s 274us/step - loss: 0.4989 - acc: 0.8750\n",
      "Epoch 69/100\n",
      "120/120 [==============================] - 0s 273us/step - loss: 0.4946 - acc: 0.8750\n",
      "Epoch 70/100\n",
      "120/120 [==============================] - 0s 291us/step - loss: 0.4900 - acc: 0.8833\n",
      "Epoch 71/100\n",
      "120/120 [==============================] - 0s 324us/step - loss: 0.4854 - acc: 0.8833\n",
      "Epoch 72/100\n",
      "120/120 [==============================] - 0s 292us/step - loss: 0.4810 - acc: 0.8917\n",
      "Epoch 73/100\n",
      "120/120 [==============================] - 0s 391us/step - loss: 0.4763 - acc: 0.8917\n",
      "Epoch 74/100\n",
      "120/120 [==============================] - 0s 332us/step - loss: 0.4722 - acc: 0.8917\n",
      "Epoch 75/100\n",
      "120/120 [==============================] - 0s 274us/step - loss: 0.4676 - acc: 0.8917\n",
      "Epoch 76/100\n",
      "120/120 [==============================] - 0s 175us/step - loss: 0.4636 - acc: 0.8917\n",
      "Epoch 77/100\n",
      "120/120 [==============================] - 0s 166us/step - loss: 0.4591 - acc: 0.8917\n",
      "Epoch 78/100\n",
      "120/120 [==============================] - 0s 199us/step - loss: 0.4549 - acc: 0.8917\n",
      "Epoch 79/100\n",
      "120/120 [==============================] - 0s 201us/step - loss: 0.4507 - acc: 0.9000\n",
      "Epoch 80/100\n",
      "120/120 [==============================] - 0s 429us/step - loss: 0.4466 - acc: 0.9000\n",
      "Epoch 81/100\n",
      "120/120 [==============================] - 0s 698us/step - loss: 0.4425 - acc: 0.9000\n",
      "Epoch 82/100\n",
      "120/120 [==============================] - 0s 645us/step - loss: 0.4382 - acc: 0.9000\n",
      "Epoch 83/100\n"
     ]
    },
    {
     "name": "stdout",
     "output_type": "stream",
     "text": [
      "120/120 [==============================] - 0s 322us/step - loss: 0.4345 - acc: 0.9000\n",
      "Epoch 84/100\n",
      "120/120 [==============================] - 0s 341us/step - loss: 0.4303 - acc: 0.9000\n",
      "Epoch 85/100\n",
      "120/120 [==============================] - 0s 258us/step - loss: 0.4263 - acc: 0.9000\n",
      "Epoch 86/100\n",
      "120/120 [==============================] - 0s 224us/step - loss: 0.4223 - acc: 0.9000\n",
      "Epoch 87/100\n",
      "120/120 [==============================] - 0s 250us/step - loss: 0.4187 - acc: 0.9000\n",
      "Epoch 88/100\n",
      "120/120 [==============================] - 0s 366us/step - loss: 0.4146 - acc: 0.9083\n",
      "Epoch 89/100\n",
      "120/120 [==============================] - 0s 299us/step - loss: 0.4108 - acc: 0.9083\n",
      "Epoch 90/100\n",
      "120/120 [==============================] - 0s 440us/step - loss: 0.4070 - acc: 0.9083\n",
      "Epoch 91/100\n",
      "120/120 [==============================] - 0s 457us/step - loss: 0.4034 - acc: 0.9083\n",
      "Epoch 92/100\n",
      "120/120 [==============================] - 0s 374us/step - loss: 0.3995 - acc: 0.9083\n",
      "Epoch 93/100\n",
      "120/120 [==============================] - 0s 416us/step - loss: 0.3958 - acc: 0.9083\n",
      "Epoch 94/100\n",
      "120/120 [==============================] - 0s 330us/step - loss: 0.3920 - acc: 0.9083\n",
      "Epoch 95/100\n",
      "120/120 [==============================] - 0s 382us/step - loss: 0.3884 - acc: 0.9167\n",
      "Epoch 96/100\n",
      "120/120 [==============================] - 0s 324us/step - loss: 0.3852 - acc: 0.9167\n",
      "Epoch 97/100\n",
      "120/120 [==============================] - 0s 331us/step - loss: 0.3813 - acc: 0.9167\n",
      "Epoch 98/100\n",
      "120/120 [==============================] - 0s 341us/step - loss: 0.3777 - acc: 0.9167\n",
      "Epoch 99/100\n",
      "120/120 [==============================] - 0s 349us/step - loss: 0.3742 - acc: 0.9167\n",
      "Epoch 100/100\n",
      "120/120 [==============================] - 0s 407us/step - loss: 0.3708 - acc: 0.9167\n"
     ]
    },
    {
     "data": {
      "text/plain": [
       "<keras.callbacks.History at 0x260eceed448>"
      ]
     },
     "execution_count": 242,
     "metadata": {},
     "output_type": "execute_result"
    }
   ],
   "source": [
    "classifier.fit(X_train, y_train,batch_size = 10, epochs = 100)"
   ]
  },
  {
   "cell_type": "code",
   "execution_count": 243,
   "metadata": {},
   "outputs": [],
   "source": [
    "y_pred = classifier.predict(X_test)\n",
    "y_pred = (y_pred > 0.5)\n"
   ]
  },
  {
   "cell_type": "code",
   "execution_count": 244,
   "metadata": {},
   "outputs": [
    {
     "name": "stdout",
     "output_type": "stream",
     "text": [
      "_________________________________________________________________\n",
      "Layer (type)                 Output Shape              Param #   \n",
      "=================================================================\n",
      "dense_46 (Dense)             (None, 4)                 20        \n",
      "_________________________________________________________________\n",
      "dense_47 (Dense)             (None, 3)                 15        \n",
      "=================================================================\n",
      "Total params: 35\n",
      "Trainable params: 35\n",
      "Non-trainable params: 0\n",
      "_________________________________________________________________\n",
      "None\n"
     ]
    }
   ],
   "source": [
    "print(classifier.summary())"
   ]
  },
  {
   "cell_type": "code",
   "execution_count": 245,
   "metadata": {},
   "outputs": [],
   "source": [
    "score,acc =classifier.evaluate(X_test,y_test,batch_size=10,verbose=2)"
   ]
  },
  {
   "cell_type": "code",
   "execution_count": 246,
   "metadata": {},
   "outputs": [
    {
     "name": "stdout",
     "output_type": "stream",
     "text": [
      "0.8666666746139526\n"
     ]
    }
   ],
   "source": [
    "print(acc)"
   ]
  },
  {
   "cell_type": "code",
   "execution_count": 226,
   "metadata": {},
   "outputs": [
    {
     "data": {
      "text/plain": [
       "array([[11,  0,  0],\n",
       "       [ 0, 12,  1],\n",
       "       [ 0,  0,  6]], dtype=int64)"
      ]
     },
     "execution_count": 226,
     "metadata": {},
     "output_type": "execute_result"
    }
   ],
   "source": [
    "from sklearn.metrics import confusion_matrix\n",
    "confusion_matrix(y_test.values.argmax(axis=1),y_pred.argmax(axis=1))#We are using our output with argmax becaue our input to confusion matrix must be a list of prediction not encoded data.\n"
   ]
  },
  {
   "cell_type": "code",
   "execution_count": 252,
   "metadata": {},
   "outputs": [
    {
     "name": "stdout",
     "output_type": "stream",
     "text": [
      "              precision    recall  f1-score   support\n",
      "\n",
      "           0       1.00      1.00      1.00        11\n",
      "           1       1.00      0.77      0.87        13\n",
      "           2       0.83      0.83      0.83         6\n",
      "\n",
      "   micro avg       0.96      0.87      0.91        30\n",
      "   macro avg       0.94      0.87      0.90        30\n",
      "weighted avg       0.97      0.87      0.91        30\n",
      " samples avg       0.87      0.87      0.87        30\n",
      "\n"
     ]
    }
   ],
   "source": [
    "from sklearn.metrics import classification_report\n",
    "print(classification_report(y_test,y_pred))"
   ]
  }
 ],
 "metadata": {
  "kernelspec": {
   "display_name": "Python 3",
   "language": "python",
   "name": "python3"
  },
  "language_info": {
   "codemirror_mode": {
    "name": "ipython",
    "version": 3
   },
   "file_extension": ".py",
   "mimetype": "text/x-python",
   "name": "python",
   "nbconvert_exporter": "python",
   "pygments_lexer": "ipython3",
   "version": "3.7.4"
  }
 },
 "nbformat": 4,
 "nbformat_minor": 2
}
