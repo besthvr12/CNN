{
 "cells": [
  {
   "cell_type": "code",
   "execution_count": 1,
   "metadata": {},
   "outputs": [
    {
     "name": "stderr",
     "output_type": "stream",
     "text": [
      "Using TensorFlow backend.\n"
     ]
    }
   ],
   "source": [
    "# import the necessary packages\n",
    "from keras.models import Sequential\n",
    "from keras.layers.convolutional import Conv2D\n",
    "from keras.layers.convolutional import MaxPooling2D\n",
    "from keras.layers.core import Activation\n",
    "from keras.layers.core import Flatten\n",
    "from keras.layers.core import Dense\n",
    "from keras import backend as K"
   ]
  },
  {
   "cell_type": "code",
   "execution_count": 2,
   "metadata": {},
   "outputs": [],
   "source": [
    "width=28\n",
    "height=28\n",
    "depth=1\n",
    "classes=10\n"
   ]
  },
  {
   "cell_type": "code",
   "execution_count": 7,
   "metadata": {},
   "outputs": [],
   "source": [
    "model = Sequential()\n",
    "inputShape = (height, width, depth)\n",
    "\n",
    "# if we are using \"channels first\", update the input shape\n",
    "if K.image_data_format() == \"channels_first\":\n",
    "    inputShape = (depth, height, width)\n",
    "model.add(Conv2D(20, (5, 5), padding=\"same\",input_shape=inputShape))\n",
    "model.add(Activation(\"relu\"))\n",
    "model.add(MaxPooling2D(pool_size=(2, 2), strides=(2, 2)))\n",
    "model.add(Conv2D(50, (5, 5), padding=\"same\"))\n",
    "model.add(Activation(\"relu\"))\n",
    "model.add(MaxPooling2D(pool_size=(2, 2), strides=(2, 2)))\n",
    "model.add(Flatten())\n",
    "model.add(Dense(500))\n",
    "model.add(Activation(\"relu\"))\n",
    "model.add(Dense(classes))\n",
    "model.add(Activation(\"softmax\"))"
   ]
  },
  {
   "cell_type": "code",
   "execution_count": 8,
   "metadata": {},
   "outputs": [],
   "source": [
    "from keras.optimizers import SGD\n",
    "from sklearn.preprocessing import LabelBinarizer\n",
    "from sklearn.model_selection import train_test_split\n",
    "from sklearn.metrics import classification_report\n",
    "from sklearn import datasets\n",
    "from keras import backend as K\n",
    "import matplotlib.pyplot as plt\n",
    "import numpy as np"
   ]
  },
  {
   "cell_type": "code",
   "execution_count": 9,
   "metadata": {},
   "outputs": [
    {
     "name": "stdout",
     "output_type": "stream",
     "text": [
      "[INFO] accessing MNIST...\n"
     ]
    },
    {
     "name": "stderr",
     "output_type": "stream",
     "text": [
      "C:\\Users\\ASUS\\Anaconda3\\lib\\site-packages\\sklearn\\utils\\deprecation.py:85: DeprecationWarning: Function fetch_mldata is deprecated; fetch_mldata was deprecated in version 0.20 and will be removed in version 0.22. Please use fetch_openml.\n",
      "  warnings.warn(msg, category=DeprecationWarning)\n",
      "C:\\Users\\ASUS\\Anaconda3\\lib\\site-packages\\sklearn\\utils\\deprecation.py:85: DeprecationWarning: Function mldata_filename is deprecated; mldata_filename was deprecated in version 0.20 and will be removed in version 0.22. Please use fetch_openml.\n",
      "  warnings.warn(msg, category=DeprecationWarning)\n"
     ]
    }
   ],
   "source": [
    "# grab the MNIST dataset (if this is your first time using this\n",
    "# dataset then the 55MB download may take a minute)\n",
    "print(\"[INFO] accessing MNIST...\")\n",
    "dataset = datasets.fetch_mldata(\"MNIST Original\")\n",
    "data = dataset.data"
   ]
  },
  {
   "cell_type": "code",
   "execution_count": 10,
   "metadata": {},
   "outputs": [],
   "source": [
    "# if we are using \"channels first\" ordering, then reshape the\n",
    "# design matrix such that the matrix is:\n",
    "# num_samples x depth x rows x columns\n",
    "if K.image_data_format() == \"channels_first\":\n",
    "    data = data.reshape(data.shape[0], 1, 28, 28)\n",
    " \n",
    " # otherwise, we are using \"channels last\" ordering, so the design\n",
    " # matrix shape should be: num_samples x rows x columns x depth\n",
    "else:\n",
    "    data = data.reshape(data.shape[0], 28, 28, 1)"
   ]
  },
  {
   "cell_type": "code",
   "execution_count": 11,
   "metadata": {},
   "outputs": [],
   "source": [
    "# scale the input data to the range [0, 1] and perform a train/test\n",
    "# split\n",
    "(trainX, testX, trainY, testY) = train_test_split(data / 255.0,dataset.target.astype(\"int\"), test_size=0.25, random_state=42)\n",
    "# convert the labels from integers to vectors\n",
    "le = LabelBinarizer()\n",
    "trainY = le.fit_transform(trainY)\n",
    "testY = le.transform(testY)"
   ]
  },
  {
   "cell_type": "code",
   "execution_count": 13,
   "metadata": {},
   "outputs": [
    {
     "name": "stdout",
     "output_type": "stream",
     "text": [
      "[INFO] compiling model...\n",
      "[INFO] training network...\n",
      "Train on 52500 samples, validate on 17500 samples\n",
      "Epoch 1/20\n",
      "52500/52500 [==============================] - 102s 2ms/step - loss: 0.9686 - accuracy: 0.7459 - val_loss: 0.6286 - val_accuracy: 0.7753\n",
      "Epoch 2/20\n",
      "52500/52500 [==============================] - 97s 2ms/step - loss: 0.2764 - accuracy: 0.9181 - val_loss: 0.2314 - val_accuracy: 0.9313\n",
      "Epoch 3/20\n",
      "52500/52500 [==============================] - 95s 2ms/step - loss: 0.2006 - accuracy: 0.9404 - val_loss: 0.1994 - val_accuracy: 0.9367\n",
      "Epoch 4/20\n",
      "52500/52500 [==============================] - 87s 2ms/step - loss: 0.1590 - accuracy: 0.9522 - val_loss: 0.1559 - val_accuracy: 0.9543\n",
      "Epoch 5/20\n",
      "52500/52500 [==============================] - 87s 2ms/step - loss: 0.1341 - accuracy: 0.9598 - val_loss: 0.1473 - val_accuracy: 0.9548\n",
      "Epoch 6/20\n",
      "52500/52500 [==============================] - 88s 2ms/step - loss: 0.1161 - accuracy: 0.9654 - val_loss: 0.2131 - val_accuracy: 0.9333\n",
      "Epoch 7/20\n",
      "52500/52500 [==============================] - 102s 2ms/step - loss: 0.1023 - accuracy: 0.9691 - val_loss: 0.1025 - val_accuracy: 0.9690\n",
      "Epoch 8/20\n",
      "52500/52500 [==============================] - 105s 2ms/step - loss: 0.0921 - accuracy: 0.9719 - val_loss: 0.0891 - val_accuracy: 0.9729\n",
      "Epoch 9/20\n",
      "52500/52500 [==============================] - 107s 2ms/step - loss: 0.0831 - accuracy: 0.9745 - val_loss: 0.0833 - val_accuracy: 0.9757\n",
      "Epoch 10/20\n",
      "52500/52500 [==============================] - 101s 2ms/step - loss: 0.0766 - accuracy: 0.9768 - val_loss: 0.1050 - val_accuracy: 0.9684\n",
      "Epoch 11/20\n",
      "52500/52500 [==============================] - 105s 2ms/step - loss: 0.0704 - accuracy: 0.9785 - val_loss: 0.0811 - val_accuracy: 0.9756\n",
      "Epoch 12/20\n",
      "52500/52500 [==============================] - 117s 2ms/step - loss: 0.0656 - accuracy: 0.9800 - val_loss: 0.0744 - val_accuracy: 0.9786\n",
      "Epoch 13/20\n",
      "52500/52500 [==============================] - 109s 2ms/step - loss: 0.0620 - accuracy: 0.9810 - val_loss: 0.0677 - val_accuracy: 0.9802\n",
      "Epoch 14/20\n",
      "52500/52500 [==============================] - 109s 2ms/step - loss: 0.0577 - accuracy: 0.9818 - val_loss: 0.0656 - val_accuracy: 0.9809\n",
      "Epoch 15/20\n",
      "52500/52500 [==============================] - 107s 2ms/step - loss: 0.0549 - accuracy: 0.9832 - val_loss: 0.1269 - val_accuracy: 0.9593\n",
      "Epoch 16/20\n",
      "52500/52500 [==============================] - 107s 2ms/step - loss: 0.0520 - accuracy: 0.9847 - val_loss: 0.0632 - val_accuracy: 0.9813\n",
      "Epoch 17/20\n",
      "52500/52500 [==============================] - 106s 2ms/step - loss: 0.0495 - accuracy: 0.9845 - val_loss: 0.0585 - val_accuracy: 0.9831\n",
      "Epoch 18/20\n",
      "52500/52500 [==============================] - 112s 2ms/step - loss: 0.0468 - accuracy: 0.9855 - val_loss: 0.0613 - val_accuracy: 0.9819\n",
      "Epoch 19/20\n",
      "52500/52500 [==============================] - 109s 2ms/step - loss: 0.0448 - accuracy: 0.9866 - val_loss: 0.0676 - val_accuracy: 0.9790\n",
      "Epoch 20/20\n",
      "52500/52500 [==============================] - 101s 2ms/step - loss: 0.0428 - accuracy: 0.9871 - val_loss: 0.0740 - val_accuracy: 0.9767\n"
     ]
    }
   ],
   "source": [
    "print(\"[INFO] compiling model...\")\n",
    "opt = SGD(lr=0.01)\n",
    "model.compile(loss=\"categorical_crossentropy\", optimizer=opt,metrics=[\"accuracy\"])\n",
    "# train the network\n",
    "print(\"[INFO] training network...\")\n",
    "H = model.fit(trainX, trainY, validation_data=(testX, testY),\n",
    "batch_size=128, epochs=20, verbose=1)"
   ]
  },
  {
   "cell_type": "code",
   "execution_count": null,
   "metadata": {},
   "outputs": [],
   "source": []
  }
 ],
 "metadata": {
  "kernelspec": {
   "display_name": "Python 3",
   "language": "python",
   "name": "python3"
  },
  "language_info": {
   "codemirror_mode": {
    "name": "ipython",
    "version": 3
   },
   "file_extension": ".py",
   "mimetype": "text/x-python",
   "name": "python",
   "nbconvert_exporter": "python",
   "pygments_lexer": "ipython3",
   "version": "3.7.4"
  }
 },
 "nbformat": 4,
 "nbformat_minor": 2
}
