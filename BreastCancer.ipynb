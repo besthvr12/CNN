{
 "cells": [
  {
   "cell_type": "code",
   "execution_count": 1,
   "metadata": {},
   "outputs": [],
   "source": [
    "import pandas as pd\n",
    "\n",
    "\n",
    "df = pd.read_csv('Data.csv')\n"
   ]
  },
  {
   "cell_type": "code",
   "execution_count": 2,
   "metadata": {},
   "outputs": [],
   "source": [
    "import numpy as np\n",
    "import matplotlib.pyplot as plt\n",
    "import seaborn as sns\n"
   ]
  },
  {
   "cell_type": "code",
   "execution_count": 3,
   "metadata": {},
   "outputs": [
    {
     "data": {
      "text/html": [
       "<div>\n",
       "<style scoped>\n",
       "    .dataframe tbody tr th:only-of-type {\n",
       "        vertical-align: middle;\n",
       "    }\n",
       "\n",
       "    .dataframe tbody tr th {\n",
       "        vertical-align: top;\n",
       "    }\n",
       "\n",
       "    .dataframe thead th {\n",
       "        text-align: right;\n",
       "    }\n",
       "</style>\n",
       "<table border=\"1\" class=\"dataframe\">\n",
       "  <thead>\n",
       "    <tr style=\"text-align: right;\">\n",
       "      <th></th>\n",
       "      <th>id</th>\n",
       "      <th>diagnosis</th>\n",
       "      <th>radius_mean</th>\n",
       "      <th>texture_mean</th>\n",
       "      <th>perimeter_mean</th>\n",
       "      <th>area_mean</th>\n",
       "      <th>smoothness_mean</th>\n",
       "      <th>compactness_mean</th>\n",
       "      <th>concavity_mean</th>\n",
       "      <th>concave points_mean</th>\n",
       "      <th>symmetry_mean</th>\n",
       "      <th>fractal_dimension_mean</th>\n",
       "      <th>radius_se</th>\n",
       "      <th>texture_se</th>\n",
       "      <th>perimeter_se</th>\n",
       "      <th>area_se</th>\n",
       "      <th>smoothness_se</th>\n",
       "      <th>compactness_se</th>\n",
       "      <th>concavity_se</th>\n",
       "      <th>concave points_se</th>\n",
       "      <th>symmetry_se</th>\n",
       "      <th>fractal_dimension_se</th>\n",
       "      <th>radius_worst</th>\n",
       "      <th>texture_worst</th>\n",
       "      <th>perimeter_worst</th>\n",
       "      <th>area_worst</th>\n",
       "      <th>smoothness_worst</th>\n",
       "      <th>compactness_worst</th>\n",
       "      <th>concavity_worst</th>\n",
       "      <th>concave points_worst</th>\n",
       "      <th>symmetry_worst</th>\n",
       "      <th>fractal_dimension_worst</th>\n",
       "      <th>Unnamed: 32</th>\n",
       "    </tr>\n",
       "  </thead>\n",
       "  <tbody>\n",
       "    <tr>\n",
       "      <td>0</td>\n",
       "      <td>842302</td>\n",
       "      <td>M</td>\n",
       "      <td>17.99</td>\n",
       "      <td>10.38</td>\n",
       "      <td>122.8</td>\n",
       "      <td>1001.0</td>\n",
       "      <td>0.11840</td>\n",
       "      <td>0.27760</td>\n",
       "      <td>0.3001</td>\n",
       "      <td>0.14710</td>\n",
       "      <td>0.2419</td>\n",
       "      <td>0.07871</td>\n",
       "      <td>1.0950</td>\n",
       "      <td>0.9053</td>\n",
       "      <td>8.589</td>\n",
       "      <td>153.40</td>\n",
       "      <td>0.006399</td>\n",
       "      <td>0.04904</td>\n",
       "      <td>0.05373</td>\n",
       "      <td>0.01587</td>\n",
       "      <td>0.03003</td>\n",
       "      <td>0.006193</td>\n",
       "      <td>25.38</td>\n",
       "      <td>17.33</td>\n",
       "      <td>184.6</td>\n",
       "      <td>2019.0</td>\n",
       "      <td>0.1622</td>\n",
       "      <td>0.6656</td>\n",
       "      <td>0.7119</td>\n",
       "      <td>0.2654</td>\n",
       "      <td>0.4601</td>\n",
       "      <td>0.11890</td>\n",
       "      <td>NaN</td>\n",
       "    </tr>\n",
       "    <tr>\n",
       "      <td>1</td>\n",
       "      <td>842517</td>\n",
       "      <td>M</td>\n",
       "      <td>20.57</td>\n",
       "      <td>17.77</td>\n",
       "      <td>132.9</td>\n",
       "      <td>1326.0</td>\n",
       "      <td>0.08474</td>\n",
       "      <td>0.07864</td>\n",
       "      <td>0.0869</td>\n",
       "      <td>0.07017</td>\n",
       "      <td>0.1812</td>\n",
       "      <td>0.05667</td>\n",
       "      <td>0.5435</td>\n",
       "      <td>0.7339</td>\n",
       "      <td>3.398</td>\n",
       "      <td>74.08</td>\n",
       "      <td>0.005225</td>\n",
       "      <td>0.01308</td>\n",
       "      <td>0.01860</td>\n",
       "      <td>0.01340</td>\n",
       "      <td>0.01389</td>\n",
       "      <td>0.003532</td>\n",
       "      <td>24.99</td>\n",
       "      <td>23.41</td>\n",
       "      <td>158.8</td>\n",
       "      <td>1956.0</td>\n",
       "      <td>0.1238</td>\n",
       "      <td>0.1866</td>\n",
       "      <td>0.2416</td>\n",
       "      <td>0.1860</td>\n",
       "      <td>0.2750</td>\n",
       "      <td>0.08902</td>\n",
       "      <td>NaN</td>\n",
       "    </tr>\n",
       "    <tr>\n",
       "      <td>2</td>\n",
       "      <td>84300903</td>\n",
       "      <td>M</td>\n",
       "      <td>19.69</td>\n",
       "      <td>21.25</td>\n",
       "      <td>130.0</td>\n",
       "      <td>1203.0</td>\n",
       "      <td>0.10960</td>\n",
       "      <td>0.15990</td>\n",
       "      <td>0.1974</td>\n",
       "      <td>0.12790</td>\n",
       "      <td>0.2069</td>\n",
       "      <td>0.05999</td>\n",
       "      <td>0.7456</td>\n",
       "      <td>0.7869</td>\n",
       "      <td>4.585</td>\n",
       "      <td>94.03</td>\n",
       "      <td>0.006150</td>\n",
       "      <td>0.04006</td>\n",
       "      <td>0.03832</td>\n",
       "      <td>0.02058</td>\n",
       "      <td>0.02250</td>\n",
       "      <td>0.004571</td>\n",
       "      <td>23.57</td>\n",
       "      <td>25.53</td>\n",
       "      <td>152.5</td>\n",
       "      <td>1709.0</td>\n",
       "      <td>0.1444</td>\n",
       "      <td>0.4245</td>\n",
       "      <td>0.4504</td>\n",
       "      <td>0.2430</td>\n",
       "      <td>0.3613</td>\n",
       "      <td>0.08758</td>\n",
       "      <td>NaN</td>\n",
       "    </tr>\n",
       "  </tbody>\n",
       "</table>\n",
       "</div>"
      ],
      "text/plain": [
       "         id diagnosis  radius_mean  texture_mean  perimeter_mean  area_mean  \\\n",
       "0    842302         M        17.99         10.38           122.8     1001.0   \n",
       "1    842517         M        20.57         17.77           132.9     1326.0   \n",
       "2  84300903         M        19.69         21.25           130.0     1203.0   \n",
       "\n",
       "   smoothness_mean  compactness_mean  concavity_mean  concave points_mean  \\\n",
       "0          0.11840           0.27760          0.3001              0.14710   \n",
       "1          0.08474           0.07864          0.0869              0.07017   \n",
       "2          0.10960           0.15990          0.1974              0.12790   \n",
       "\n",
       "   symmetry_mean  fractal_dimension_mean  radius_se  texture_se  perimeter_se  \\\n",
       "0         0.2419                 0.07871     1.0950      0.9053         8.589   \n",
       "1         0.1812                 0.05667     0.5435      0.7339         3.398   \n",
       "2         0.2069                 0.05999     0.7456      0.7869         4.585   \n",
       "\n",
       "   area_se  smoothness_se  compactness_se  concavity_se  concave points_se  \\\n",
       "0   153.40       0.006399         0.04904       0.05373            0.01587   \n",
       "1    74.08       0.005225         0.01308       0.01860            0.01340   \n",
       "2    94.03       0.006150         0.04006       0.03832            0.02058   \n",
       "\n",
       "   symmetry_se  fractal_dimension_se  radius_worst  texture_worst  \\\n",
       "0      0.03003              0.006193         25.38          17.33   \n",
       "1      0.01389              0.003532         24.99          23.41   \n",
       "2      0.02250              0.004571         23.57          25.53   \n",
       "\n",
       "   perimeter_worst  area_worst  smoothness_worst  compactness_worst  \\\n",
       "0            184.6      2019.0            0.1622             0.6656   \n",
       "1            158.8      1956.0            0.1238             0.1866   \n",
       "2            152.5      1709.0            0.1444             0.4245   \n",
       "\n",
       "   concavity_worst  concave points_worst  symmetry_worst  \\\n",
       "0           0.7119                0.2654          0.4601   \n",
       "1           0.2416                0.1860          0.2750   \n",
       "2           0.4504                0.2430          0.3613   \n",
       "\n",
       "   fractal_dimension_worst  Unnamed: 32  \n",
       "0                  0.11890          NaN  \n",
       "1                  0.08902          NaN  \n",
       "2                  0.08758          NaN  "
      ]
     },
     "execution_count": 3,
     "metadata": {},
     "output_type": "execute_result"
    }
   ],
   "source": [
    "pd.set_option('display.max_columns', len(df.columns)) # To view all columns\n",
    "pd.set_option('display.max_rows', 100)\n",
    "df.head(3)"
   ]
  },
  {
   "cell_type": "code",
   "execution_count": 4,
   "metadata": {},
   "outputs": [
    {
     "data": {
      "text/plain": [
       "<matplotlib.axes._subplots.AxesSubplot at 0x13dc5cdda88>"
      ]
     },
     "execution_count": 4,
     "metadata": {},
     "output_type": "execute_result"
    },
    {
     "data": {
      "image/png": "[encoded data removed]",
      "text/plain": [
       "<Figure size 432x288 with 2 Axes>"
      ]
     },
     "metadata": {
      "needs_background": "light"
     },
     "output_type": "display_data"
    }
   ],
   "source": [
    "#To check nan values are available or  not:\n",
    "sns.heatmap(df.isnull())"
   ]
  },
  {
   "cell_type": "code",
   "execution_count": 5,
   "metadata": {},
   "outputs": [
    {
     "name": "stdout",
     "output_type": "stream",
     "text": [
      "<class 'pandas.core.frame.DataFrame'>\n",
      "RangeIndex: 569 entries, 0 to 568\n",
      "Data columns (total 33 columns):\n",
      "id                         569 non-null int64\n",
      "diagnosis                  569 non-null object\n",
      "radius_mean                569 non-null float64\n",
      "texture_mean               569 non-null float64\n",
      "perimeter_mean             569 non-null float64\n",
      "area_mean                  569 non-null float64\n",
      "smoothness_mean            569 non-null float64\n",
      "compactness_mean           569 non-null float64\n",
      "concavity_mean             569 non-null float64\n",
      "concave points_mean        569 non-null float64\n",
      "symmetry_mean              569 non-null float64\n",
      "fractal_dimension_mean     569 non-null float64\n",
      "radius_se                  569 non-null float64\n",
      "texture_se                 569 non-null float64\n",
      "perimeter_se               569 non-null float64\n",
      "area_se                    569 non-null float64\n",
      "smoothness_se              569 non-null float64\n",
      "compactness_se             569 non-null float64\n",
      "concavity_se               569 non-null float64\n",
      "concave points_se          569 non-null float64\n",
      "symmetry_se                569 non-null float64\n",
      "fractal_dimension_se       569 non-null float64\n",
      "radius_worst               569 non-null float64\n",
      "texture_worst              569 non-null float64\n",
      "perimeter_worst            569 non-null float64\n",
      "area_worst                 569 non-null float64\n",
      "smoothness_worst           569 non-null float64\n",
      "compactness_worst          569 non-null float64\n",
      "concavity_worst            569 non-null float64\n",
      "concave points_worst       569 non-null float64\n",
      "symmetry_worst             569 non-null float64\n",
      "fractal_dimension_worst    569 non-null float64\n",
      "Unnamed: 32                0 non-null float64\n",
      "dtypes: float64(31), int64(1), object(1)\n",
      "memory usage: 146.8+ KB\n"
     ]
    }
   ],
   "source": [
    "df.info()# Plotting the distribution of numerical and boolean categories\n"
   ]
  },
  {
   "cell_type": "code",
   "execution_count": 6,
   "metadata": {},
   "outputs": [],
   "source": [
    "df.drop(['Unnamed: 32','id'], axis=1, inplace=True)"
   ]
  },
  {
   "cell_type": "code",
   "execution_count": 7,
   "metadata": {},
   "outputs": [
    {
     "data": {
      "image/png": "[encoded data removed]",
      "text/plain": [
       "<Figure size 1440x1440 with 30 Axes>"
      ]
     },
     "metadata": {
      "needs_background": "light"
     },
     "output_type": "display_data"
    }
   ],
   "source": [
    "# Plotting the distribution of numerical and boolean categories\n",
    "df.hist(figsize=(20,20));"
   ]
  },
  {
   "cell_type": "code",
   "execution_count": 8,
   "metadata": {},
   "outputs": [
    {
     "data": {
      "text/plain": [
       "B    357\n",
       "M    212\n",
       "Name: diagnosis, dtype: int64"
      ]
     },
     "execution_count": 8,
     "metadata": {},
     "output_type": "execute_result"
    }
   ],
   "source": [
    "df.diagnosis.value_counts()"
   ]
  },
  {
   "cell_type": "code",
   "execution_count": 9,
   "metadata": {},
   "outputs": [
    {
     "data": {
      "text/plain": [
       "B    0.627417\n",
       "M    0.372583\n",
       "Name: diagnosis, dtype: float64"
      ]
     },
     "execution_count": 9,
     "metadata": {},
     "output_type": "execute_result"
    }
   ],
   "source": [
    "df.diagnosis.value_counts(normalize=True)"
   ]
  },
  {
   "cell_type": "code",
   "execution_count": 10,
   "metadata": {},
   "outputs": [],
   "source": [
    "\n",
    "df.diagnosis.replace({'M':1,'B':0},inplace=True)\n",
    "X=np.array(df.drop(['diagnosis'],1))\n",
    "y=np.array(df['diagnosis'])"
   ]
  },
  {
   "cell_type": "code",
   "execution_count": 11,
   "metadata": {},
   "outputs": [],
   "source": [
    "from sklearn.model_selection import train_test_split\n",
    "X_train, X_test, y_train, y_test = train_test_split(X, y, test_size = 0.35, random_state = 42)\n",
    "\n",
    "# Feature Scaling\n",
    "\n",
    "from sklearn.preprocessing import StandardScaler\n",
    "sc = StandardScaler()\n",
    "X_train = sc.fit_transform(X_train)\n",
    "X_test = sc.transform(X_test)\n"
   ]
  },
  {
   "cell_type": "code",
   "execution_count": 12,
   "metadata": {},
   "outputs": [
    {
     "name": "stdout",
     "output_type": "stream",
     "text": [
      "[[125   4]\n",
      " [  2  69]]\n",
      "Accuracy score of train SVM\n",
      "98.6449864498645\n",
      "Accuracy score of test SVM\n",
      "97.0\n"
     ]
    }
   ],
   "source": [
    "from sklearn.svm import SVC\n",
    "from sklearn.metrics import accuracy_score\n",
    "classifier = SVC(kernel = 'linear', random_state = 0)\n",
    "\n",
    "trained_model=classifier.fit(X_train,y_train)\n",
    "trained_model.fit(X_train,y_train )\n",
    "\n",
    "\n",
    "# Predicting the Test set results\n",
    "\n",
    "y_pred = classifier.predict(X_test)\n",
    "\n",
    "# Making the Confusion Matrix\n",
    "\n",
    "from sklearn.metrics import confusion_matrix\n",
    "cm_SVM = confusion_matrix(y_test, y_pred)\n",
    "print(cm_SVM)\n",
    "print(\"Accuracy score of train SVM\")\n",
    "print(accuracy_score(y_train, trained_model.predict(X_train))*100)\n",
    "\n",
    "print(\"Accuracy score of test SVM\")\n",
    "print(accuracy_score(y_test, y_pred)*100)"
   ]
  },
  {
   "cell_type": "code",
   "execution_count": 13,
   "metadata": {},
   "outputs": [
    {
     "name": "stdout",
     "output_type": "stream",
     "text": [
      "              precision    recall  f1-score   support\n",
      "\n",
      "           0       0.98      0.97      0.98       129\n",
      "           1       0.95      0.97      0.96        71\n",
      "\n",
      "    accuracy                           0.97       200\n",
      "   macro avg       0.96      0.97      0.97       200\n",
      "weighted avg       0.97      0.97      0.97       200\n",
      "\n"
     ]
    }
   ],
   "source": [
    "from sklearn.metrics import classification_report\n",
    "print(classification_report(y_test, y_pred))"
   ]
  },
  {
   "cell_type": "code",
   "execution_count": 26,
   "metadata": {},
   "outputs": [],
   "source": [
    "\n",
    "# Import the model we are using\n",
    "from sklearn.ensemble import RandomForestClassifier\n",
    "rf = RandomForestClassifier(n_estimators = i, random_state = 42)\n",
    "rf.fit(X_train, y_train)\n",
    "y_pred = rf.predict(X_test)\n",
    "rft = confusion_matrix(y_test, y_pred)"
   ]
  },
  {
   "cell_type": "code",
   "execution_count": 27,
   "metadata": {},
   "outputs": [
    {
     "name": "stdout",
     "output_type": "stream",
     "text": [
      "[[127   2]\n",
      " [  5  66]]\n",
      "Accuracy score of train RFT\n",
      "98.6449864498645\n",
      "Accuracy score of test RFT\n",
      "96.5\n"
     ]
    }
   ],
   "source": [
    "print(rft)\n",
    "print(\"Accuracy score of train RFT\")\n",
    "print(accuracy_score(y_train, trained_model.predict(X_train))*100)\n",
    "\n",
    "print(\"Accuracy score of test RFT\")\n",
    "print(accuracy_score(y_test, y_pred)*100)"
   ]
  },
  {
   "cell_type": "code",
   "execution_count": 28,
   "metadata": {},
   "outputs": [
    {
     "name": "stdout",
     "output_type": "stream",
     "text": [
      "              precision    recall  f1-score   support\n",
      "\n",
      "           0       0.96      0.98      0.97       129\n",
      "           1       0.97      0.93      0.95        71\n",
      "\n",
      "    accuracy                           0.96       200\n",
      "   macro avg       0.97      0.96      0.96       200\n",
      "weighted avg       0.97      0.96      0.96       200\n",
      "\n"
     ]
    }
   ],
   "source": [
    "print(classification_report(y_test, y_pred))"
   ]
  },
  {
   "cell_type": "code",
   "execution_count": 29,
   "metadata": {},
   "outputs": [],
   "source": [
    "from sklearn.ensemble import AdaBoostClassifier\n",
    "classifier = AdaBoostClassifier(n_estimators=100, random_state=0)"
   ]
  },
  {
   "cell_type": "code",
   "execution_count": 30,
   "metadata": {},
   "outputs": [],
   "source": [
    "classifier.fit(X_train, y_train)\n",
    "y_pred =classifier.predict(X_test)\n",
    "ad = confusion_matrix(y_test, y_pred)"
   ]
  },
  {
   "cell_type": "code",
   "execution_count": 31,
   "metadata": {},
   "outputs": [
    {
     "name": "stdout",
     "output_type": "stream",
     "text": [
      "[[125   4]\n",
      " [  1  70]]\n",
      "Accuracy score of train Adaboost\n",
      "98.6449864498645\n",
      "Accuracy score of test Adaboost\n",
      "97.5\n"
     ]
    }
   ],
   "source": [
    "print(ad)\n",
    "print(\"Accuracy score of train Adaboost\")\n",
    "print(accuracy_score(y_train, trained_model.predict(X_train))*100)\n",
    "\n",
    "print(\"Accuracy score of test Adaboost\")\n",
    "print(accuracy_score(y_test, y_pred)*100)"
   ]
  },
  {
   "cell_type": "code",
   "execution_count": 32,
   "metadata": {},
   "outputs": [
    {
     "name": "stdout",
     "output_type": "stream",
     "text": [
      "              precision    recall  f1-score   support\n",
      "\n",
      "           0       0.99      0.97      0.98       129\n",
      "           1       0.95      0.99      0.97        71\n",
      "\n",
      "    accuracy                           0.97       200\n",
      "   macro avg       0.97      0.98      0.97       200\n",
      "weighted avg       0.98      0.97      0.98       200\n",
      "\n"
     ]
    }
   ],
   "source": [
    "print(classification_report(y_test, y_pred))"
   ]
  },
  {
   "cell_type": "code",
   "execution_count": 33,
   "metadata": {},
   "outputs": [],
   "source": [
    "from sklearn.naive_bayes import GaussianNB"
   ]
  },
  {
   "cell_type": "code",
   "execution_count": 36,
   "metadata": {},
   "outputs": [],
   "source": [
    "gnb = GaussianNB()\n",
    "gnb.fit(X_train, y_train)\n",
    "y_pred =gnb.predict(X_test)\n",
    "c_m = confusion_matrix(y_test, y_pred)"
   ]
  },
  {
   "cell_type": "code",
   "execution_count": 38,
   "metadata": {},
   "outputs": [
    {
     "name": "stdout",
     "output_type": "stream",
     "text": [
      "[[123   6]\n",
      " [  6  65]]\n",
      "Accuracy score of train Naive Bayes\n",
      "98.6449864498645\n",
      "Accuracy score of test Naive Bayes\n",
      "94.0\n"
     ]
    }
   ],
   "source": [
    "print(c_m)\n",
    "print(\"Accuracy score of train Naive Bayes\")\n",
    "print(accuracy_score(y_train, trained_model.predict(X_train))*100)\n",
    "\n",
    "print(\"Accuracy score of test Naive Bayes\")\n",
    "print(accuracy_score(y_test, y_pred)*100)"
   ]
  },
  {
   "cell_type": "code",
   "execution_count": 39,
   "metadata": {},
   "outputs": [
    {
     "name": "stdout",
     "output_type": "stream",
     "text": [
      "              precision    recall  f1-score   support\n",
      "\n",
      "           0       0.95      0.95      0.95       129\n",
      "           1       0.92      0.92      0.92        71\n",
      "\n",
      "    accuracy                           0.94       200\n",
      "   macro avg       0.93      0.93      0.93       200\n",
      "weighted avg       0.94      0.94      0.94       200\n",
      "\n"
     ]
    }
   ],
   "source": [
    "print(classification_report(y_test, y_pred))"
   ]
  },
  {
   "cell_type": "code",
   "execution_count": 42,
   "metadata": {},
   "outputs": [],
   "source": [
    "from sklearn.tree import DecisionTreeClassifier\n",
    "classifier = DecisionTreeClassifier(criterion = 'entropy', random_state = 0)\n",
    "classifier.fit(X_train, y_train)\n",
    "y_pred =classifier.predict(X_test)\n",
    "cfm = confusion_matrix(y_test, y_pred)"
   ]
  },
  {
   "cell_type": "code",
   "execution_count": 43,
   "metadata": {},
   "outputs": [
    {
     "name": "stdout",
     "output_type": "stream",
     "text": [
      "[[127   2]\n",
      " [  6  65]]\n",
      "Accuracy score of train Decision Tree Classifier\n",
      "98.6449864498645\n",
      "Accuracy score of test Decision Tree Classifier\n",
      "96.0\n"
     ]
    }
   ],
   "source": [
    "print(cfm)\n",
    "print(\"Accuracy score of train Decision Tree Classifier\")\n",
    "print(accuracy_score(y_train, trained_model.predict(X_train))*100)\n",
    "\n",
    "print(\"Accuracy score of test Decision Tree Classifier\")\n",
    "print(accuracy_score(y_test, y_pred)*100)"
   ]
  },
  {
   "cell_type": "code",
   "execution_count": 46,
   "metadata": {},
   "outputs": [
    {
     "name": "stderr",
     "output_type": "stream",
     "text": [
      "C:\\Users\\ASUS\\Anaconda3\\lib\\site-packages\\sklearn\\ensemble\\forest.py:245: FutureWarning: The default value of n_estimators will change from 10 in version 0.20 to 100 in 0.22.\n",
      "  \"10 in version 0.20 to 100 in 0.22.\", FutureWarning)\n"
     ]
    },
    {
     "data": {
      "text/plain": [
       "VotingClassifier(estimators=[('dec_clf',\n",
       "                              DecisionTreeClassifier(class_weight=None,\n",
       "                                                     criterion='entropy',\n",
       "                                                     max_depth=None,\n",
       "                                                     max_features=None,\n",
       "                                                     max_leaf_nodes=None,\n",
       "                                                     min_impurity_decrease=0.0,\n",
       "                                                     min_impurity_split=None,\n",
       "                                                     min_samples_leaf=1,\n",
       "                                                     min_samples_split=2,\n",
       "                                                     min_weight_fraction_leaf=0.0,\n",
       "                                                     presort=False,\n",
       "                                                     random_state=0,\n",
       "                                                     splitter='best')),\n",
       "                             ('rf',\n",
       "                              RandomForestClassifier(bo...\n",
       "                                                     oob_score=False,\n",
       "                                                     random_state=None,\n",
       "                                                     verbose=0,\n",
       "                                                     warm_start=False)),\n",
       "                             ('svc',\n",
       "                              SVC(C=1.0, cache_size=200, class_weight=None,\n",
       "                                  coef0=0.0, decision_function_shape='ovr',\n",
       "                                  degree=3, gamma='auto_deprecated',\n",
       "                                  kernel='rbf', max_iter=-1, probability=False,\n",
       "                                  random_state=None, shrinking=True, tol=0.001,\n",
       "                                  verbose=False))],\n",
       "                 flatten_transform=True, n_jobs=None, voting='hard',\n",
       "                 weights=None)"
      ]
     },
     "execution_count": 46,
     "metadata": {},
     "output_type": "execute_result"
    }
   ],
   "source": [
    "from sklearn.ensemble import VotingClassifier\n",
    "dec_clf = DecisionTreeClassifier(criterion = 'entropy', random_state = 0)\n",
    "rnd_clf=RandomForestClassifier()\n",
    "svm_clf=SVC()\n",
    "voting_clf=VotingClassifier(estimators=[('dec_clf',dec_clf),('rf',rnd_clf),('svc',svm_clf)],voting='hard') \n",
    "voting_clf.fit(X_train,y_train)\n"
   ]
  },
  {
   "cell_type": "code",
   "execution_count": 48,
   "metadata": {},
   "outputs": [
    {
     "name": "stderr",
     "output_type": "stream",
     "text": [
      "C:\\Users\\ASUS\\Anaconda3\\lib\\site-packages\\sklearn\\ensemble\\forest.py:245: FutureWarning: The default value of n_estimators will change from 10 in version 0.20 to 100 in 0.22.\n",
      "  \"10 in version 0.20 to 100 in 0.22.\", FutureWarning)\n"
     ]
    }
   ],
   "source": [
    "voting_clf.fit(X_train, y_train)\n",
    "y_pred =voting_clf.predict(X_test)\n",
    "cfm = confusion_matrix(y_test, y_pred)"
   ]
  },
  {
   "cell_type": "code",
   "execution_count": 50,
   "metadata": {},
   "outputs": [
    {
     "name": "stdout",
     "output_type": "stream",
     "text": [
      "[[127   2]\n",
      " [  4  67]]\n",
      "Accuracy score of train Voting Classifier\n",
      "98.6449864498645\n",
      "Accuracy score of test Voting Classifier\n",
      "97.0\n"
     ]
    }
   ],
   "source": [
    "print(cfm)\n",
    "print(\"Accuracy score of train Voting Classifier\")\n",
    "print(accuracy_score(y_train, trained_model.predict(X_train))*100)\n",
    "\n",
    "print(\"Accuracy score of test Voting Classifier\")\n",
    "print(accuracy_score(y_test, y_pred)*100)"
   ]
  },
  {
   "cell_type": "code",
   "execution_count": 51,
   "metadata": {},
   "outputs": [
    {
     "name": "stdout",
     "output_type": "stream",
     "text": [
      "              precision    recall  f1-score   support\n",
      "\n",
      "           0       0.97      0.98      0.98       129\n",
      "           1       0.97      0.94      0.96        71\n",
      "\n",
      "    accuracy                           0.97       200\n",
      "   macro avg       0.97      0.96      0.97       200\n",
      "weighted avg       0.97      0.97      0.97       200\n",
      "\n"
     ]
    }
   ],
   "source": [
    "print(classification_report(y_test, y_pred))"
   ]
  },
  {
   "cell_type": "code",
   "execution_count": 52,
   "metadata": {},
   "outputs": [
    {
     "name": "stderr",
     "output_type": "stream",
     "text": [
      "Using TensorFlow backend.\n"
     ]
    }
   ],
   "source": [
    "from keras.utils import to_categorical\n",
    "from keras.models import Sequential\n",
    "from keras.layers import Conv2D\n",
    "from keras.layers import MaxPooling2D\n",
    "from keras.layers import Dense\n",
    "from keras.layers import Flatten\n",
    "from keras.optimizers import SGD"
   ]
  },
  {
   "cell_type": "code",
   "execution_count": 59,
   "metadata": {},
   "outputs": [
    {
     "name": "stdout",
     "output_type": "stream",
     "text": [
      "Train on 369 samples, validate on 200 samples\n",
      "Epoch 1/10\n",
      "369/369 [==============================] - 0s 1ms/step - loss: 0.6889 - accuracy: 0.6098 - val_loss: 0.6752 - val_accuracy: 0.7400\n",
      "Epoch 2/10\n",
      "369/369 [==============================] - 0s 354us/step - loss: 0.6052 - accuracy: 0.9051 - val_loss: 0.4528 - val_accuracy: 0.9450\n",
      "Epoch 3/10\n",
      "369/369 [==============================] - 0s 295us/step - loss: 0.2854 - accuracy: 0.9512 - val_loss: 0.1450 - val_accuracy: 0.9500\n",
      "Epoch 4/10\n",
      "369/369 [==============================] - 0s 325us/step - loss: 0.1253 - accuracy: 0.9648 - val_loss: 0.0847 - val_accuracy: 0.9750\n",
      "Epoch 5/10\n",
      "369/369 [==============================] - 0s 389us/step - loss: 0.0935 - accuracy: 0.9729 - val_loss: 0.0682 - val_accuracy: 0.9750\n",
      "Epoch 6/10\n",
      "369/369 [==============================] - 0s 297us/step - loss: 0.0804 - accuracy: 0.9783 - val_loss: 0.0614 - val_accuracy: 0.9750\n",
      "Epoch 7/10\n",
      "369/369 [==============================] - 0s 344us/step - loss: 0.0729 - accuracy: 0.9783 - val_loss: 0.0599 - val_accuracy: 0.9750\n",
      "Epoch 8/10\n",
      "369/369 [==============================] - 0s 418us/step - loss: 0.0678 - accuracy: 0.9783 - val_loss: 0.0566 - val_accuracy: 0.9850\n",
      "Epoch 9/10\n",
      "369/369 [==============================] - 0s 338us/step - loss: 0.0652 - accuracy: 0.9864 - val_loss: 0.0531 - val_accuracy: 0.9850\n",
      "Epoch 10/10\n",
      "369/369 [==============================] - 0s 305us/step - loss: 0.0611 - accuracy: 0.9864 - val_loss: 0.0520 - val_accuracy: 0.9850\n"
     ]
    },
    {
     "data": {
      "text/plain": [
       "<keras.callbacks.callbacks.History at 0x13dda429d48>"
      ]
     },
     "execution_count": 59,
     "metadata": {},
     "output_type": "execute_result"
    }
   ],
   "source": [
    "classifier = Sequential()\n",
    "\n",
    "\n",
    "classifier.add(Dense(units = 15, kernel_initializer = 'uniform', activation = 'relu', input_dim = 30))\n",
    "\n",
    "\n",
    "classifier.add(Dense(units =20, kernel_initializer = 'uniform', activation = 'relu'))\n",
    "\n",
    "\n",
    "classifier.add(Dense(units =20, kernel_initializer = 'uniform', activation = 'relu'))\n",
    "\n",
    "\n",
    "classifier.add(Dense(units = 1, kernel_initializer = 'uniform', activation = 'sigmoid'))\n",
    "\n",
    "\n",
    "classifier.compile(optimizer = 'adam', loss = 'binary_crossentropy', metrics = ['accuracy'])\n",
    "\n",
    "# Fitting the ANN to the Training set\n",
    "classifier.fit(X_train, y_train, batch_size = 10, epochs = 10,validation_data=(X_test, y_test))\n"
   ]
  },
  {
   "cell_type": "code",
   "execution_count": 60,
   "metadata": {},
   "outputs": [
    {
     "name": "stdout",
     "output_type": "stream",
     "text": [
      "Train on 369 samples, validate on 200 samples\n",
      "Epoch 1/10\n",
      "369/369 [==============================] - 1s 1ms/step - loss: 0.6720 - accuracy: 0.7480 - val_loss: 0.5862 - val_accuracy: 0.9200\n",
      "Epoch 2/10\n",
      "369/369 [==============================] - 0s 340us/step - loss: 0.3750 - accuracy: 0.9377 - val_loss: 0.2049 - val_accuracy: 0.9400\n",
      "Epoch 3/10\n",
      "369/369 [==============================] - 0s 327us/step - loss: 0.1657 - accuracy: 0.9593 - val_loss: 0.1051 - val_accuracy: 0.9900\n",
      "Epoch 4/10\n",
      "369/369 [==============================] - 0s 338us/step - loss: 0.1110 - accuracy: 0.9756 - val_loss: 0.0838 - val_accuracy: 0.9850\n",
      "Epoch 5/10\n",
      "369/369 [==============================] - 0s 384us/step - loss: 0.0904 - accuracy: 0.9756 - val_loss: 0.0727 - val_accuracy: 0.9850\n",
      "Epoch 6/10\n",
      "369/369 [==============================] - 0s 351us/step - loss: 0.0798 - accuracy: 0.9837 - val_loss: 0.0647 - val_accuracy: 0.9850\n",
      "Epoch 7/10\n",
      "369/369 [==============================] - 0s 297us/step - loss: 0.0766 - accuracy: 0.9837 - val_loss: 0.0614 - val_accuracy: 0.9900\n",
      "Epoch 8/10\n",
      "369/369 [==============================] - 0s 449us/step - loss: 0.0720 - accuracy: 0.9810 - val_loss: 0.0593 - val_accuracy: 0.9850\n",
      "Epoch 9/10\n",
      "369/369 [==============================] - 0s 654us/step - loss: 0.0678 - accuracy: 0.9864 - val_loss: 0.0593 - val_accuracy: 0.9850\n",
      "Epoch 10/10\n",
      "369/369 [==============================] - 0s 421us/step - loss: 0.0634 - accuracy: 0.9864 - val_loss: 0.0564 - val_accuracy: 0.9900\n"
     ]
    },
    {
     "data": {
      "text/plain": [
       "<keras.callbacks.callbacks.History at 0x13ddb563fc8>"
      ]
     },
     "execution_count": 60,
     "metadata": {},
     "output_type": "execute_result"
    }
   ],
   "source": [
    "classifier = Sequential()\n",
    "\n",
    "\n",
    "classifier.add(Dense(units = 15, kernel_initializer = 'uniform', activation = 'tanh', input_dim = 30))\n",
    "\n",
    "\n",
    "classifier.add(Dense(units =20, kernel_initializer = 'uniform', activation = 'tanh'))\n",
    "\n",
    "\n",
    "classifier.add(Dense(units =20, kernel_initializer = 'uniform', activation = 'tanh'))\n",
    "\n",
    "\n",
    "classifier.add(Dense(units = 1, kernel_initializer = 'uniform', activation = 'sigmoid'))\n",
    "\n",
    "\n",
    "classifier.compile(optimizer = 'adam', loss = 'binary_crossentropy', metrics = ['accuracy'])\n",
    "\n",
    "# Fitting the ANN to the Training set\n",
    "classifier.fit(X_train, y_train, batch_size = 10, epochs = 10,validation_data=(X_test, y_test))a\n"
   ]
  },
  {
   "cell_type": "code",
   "execution_count": 64,
   "metadata": {},
   "outputs": [
    {
     "name": "stdout",
     "output_type": "stream",
     "text": [
      "Train on 369 samples, validate on 200 samples\n",
      "Epoch 1/20\n",
      "369/369 [==============================] - 1s 2ms/step - loss: 0.6833 - accuracy: 0.6125 - val_loss: 0.6630 - val_accuracy: 0.6450\n",
      "Epoch 2/20\n",
      "369/369 [==============================] - 0s 448us/step - loss: 0.6682 - accuracy: 0.6179 - val_loss: 0.6559 - val_accuracy: 0.6450\n",
      "Epoch 3/20\n",
      "369/369 [==============================] - 0s 425us/step - loss: 0.6632 - accuracy: 0.6179 - val_loss: 0.6460 - val_accuracy: 0.6450\n",
      "Epoch 4/20\n",
      "369/369 [==============================] - 0s 437us/step - loss: 0.6572 - accuracy: 0.6179 - val_loss: 0.6411 - val_accuracy: 0.6450\n",
      "Epoch 5/20\n",
      "369/369 [==============================] - 0s 593us/step - loss: 0.6525 - accuracy: 0.6179 - val_loss: 0.6349 - val_accuracy: 0.6450\n",
      "Epoch 6/20\n",
      "369/369 [==============================] - 0s 456us/step - loss: 0.6474 - accuracy: 0.6179 - val_loss: 0.6287 - val_accuracy: 0.6450\n",
      "Epoch 7/20\n",
      "369/369 [==============================] - 0s 415us/step - loss: 0.6421 - accuracy: 0.6179 - val_loss: 0.6238 - val_accuracy: 0.6450\n",
      "Epoch 8/20\n",
      "369/369 [==============================] - 0s 427us/step - loss: 0.6380 - accuracy: 0.6179 - val_loss: 0.6157 - val_accuracy: 0.6450\n",
      "Epoch 9/20\n",
      "369/369 [==============================] - 0s 481us/step - loss: 0.6292 - accuracy: 0.6179 - val_loss: 0.6072 - val_accuracy: 0.6450\n",
      "Epoch 10/20\n",
      "369/369 [==============================] - 0s 674us/step - loss: 0.6190 - accuracy: 0.6179 - val_loss: 0.5962 - val_accuracy: 0.6450\n",
      "Epoch 11/20\n",
      "369/369 [==============================] - 0s 446us/step - loss: 0.6067 - accuracy: 0.6179 - val_loss: 0.5851 - val_accuracy: 0.6450\n",
      "Epoch 12/20\n",
      "369/369 [==============================] - 0s 442us/step - loss: 0.5936 - accuracy: 0.6179 - val_loss: 0.5695 - val_accuracy: 0.6450\n",
      "Epoch 13/20\n",
      "369/369 [==============================] - 0s 467us/step - loss: 0.5783 - accuracy: 0.6179 - val_loss: 0.5540 - val_accuracy: 0.6450\n",
      "Epoch 14/20\n",
      "369/369 [==============================] - 0s 477us/step - loss: 0.5604 - accuracy: 0.6179 - val_loss: 0.5334 - val_accuracy: 0.6450\n",
      "Epoch 15/20\n",
      "369/369 [==============================] - 0s 347us/step - loss: 0.5395 - accuracy: 0.6179 - val_loss: 0.5118 - val_accuracy: 0.6450\n",
      "Epoch 16/20\n",
      "369/369 [==============================] - 0s 357us/step - loss: 0.5174 - accuracy: 0.6179 - val_loss: 0.4890 - val_accuracy: 0.6450\n",
      "Epoch 17/20\n",
      "369/369 [==============================] - 0s 441us/step - loss: 0.4935 - accuracy: 0.6694 - val_loss: 0.4642 - val_accuracy: 0.6450\n",
      "Epoch 18/20\n",
      "369/369 [==============================] - 0s 470us/step - loss: 0.4680 - accuracy: 0.7534 - val_loss: 0.4370 - val_accuracy: 0.9250\n",
      "Epoch 19/20\n",
      "369/369 [==============================] - 0s 591us/step - loss: 0.4405 - accuracy: 0.9377 - val_loss: 0.4115 - val_accuracy: 0.9600\n",
      "Epoch 20/20\n",
      "369/369 [==============================] - 0s 573us/step - loss: 0.4125 - accuracy: 0.9485 - val_loss: 0.3828 - val_accuracy: 0.9600\n"
     ]
    },
    {
     "data": {
      "text/plain": [
       "<keras.callbacks.callbacks.History at 0x13ddfc4a308>"
      ]
     },
     "execution_count": 64,
     "metadata": {},
     "output_type": "execute_result"
    }
   ],
   "source": [
    "classifier = Sequential()\n",
    "\n",
    "\n",
    "classifier.add(Dense(units = 15, kernel_initializer = 'uniform', activation = 'sigmoid', input_dim = 30))\n",
    "\n",
    "\n",
    "classifier.add(Dense(units =20, kernel_initializer = 'uniform', activation = 'sigmoid'))\n",
    "\n",
    "\n",
    "classifier.add(Dense(units =20, kernel_initializer = 'uniform', activation = 'sigmoid'))\n",
    "\n",
    "\n",
    "classifier.add(Dense(units = 1, kernel_initializer = 'uniform', activation = 'sigmoid'))\n",
    "\n",
    "\n",
    "classifier.compile(optimizer = 'adam', loss = 'binary_crossentropy', metrics = ['accuracy'])\n",
    "\n",
    "# Fitting the ANN to the Training set\n",
    "classifier.fit(X_train, y_train, batch_size = 10, epochs = 20,validation_data=(X_test, y_test))\n"
   ]
  },
  {
   "cell_type": "code",
   "execution_count": 72,
   "metadata": {},
   "outputs": [
    {
     "name": "stdout",
     "output_type": "stream",
     "text": [
      "Train on 369 samples, validate on 200 samples\n",
      "Epoch 1/10\n",
      "369/369 [==============================] - 1s 2ms/step - loss: 0.6665 - accuracy: 0.7832 - val_loss: 0.5684 - val_accuracy: 0.9200\n",
      "Epoch 2/10\n",
      "369/369 [==============================] - 0s 424us/step - loss: 0.3670 - accuracy: 0.9377 - val_loss: 0.2012 - val_accuracy: 0.9450\n",
      "Epoch 3/10\n",
      "369/369 [==============================] - 0s 354us/step - loss: 0.1605 - accuracy: 0.9648 - val_loss: 0.1020 - val_accuracy: 0.9900\n",
      "Epoch 4/10\n",
      "369/369 [==============================] - 0s 377us/step - loss: 0.1059 - accuracy: 0.9756 - val_loss: 0.0799 - val_accuracy: 0.9850\n",
      "Epoch 5/10\n",
      "369/369 [==============================] - 0s 337us/step - loss: 0.0884 - accuracy: 0.9783 - val_loss: 0.0707 - val_accuracy: 0.9850\n",
      "Epoch 6/10\n",
      "369/369 [==============================] - 0s 669us/step - loss: 0.0818 - accuracy: 0.9837 - val_loss: 0.0622 - val_accuracy: 0.9900\n",
      "Epoch 7/10\n",
      "369/369 [==============================] - 0s 562us/step - loss: 0.0738 - accuracy: 0.9837 - val_loss: 0.0572 - val_accuracy: 0.9900\n",
      "Epoch 8/10\n",
      "369/369 [==============================] - 0s 455us/step - loss: 0.0698 - accuracy: 0.9837 - val_loss: 0.0589 - val_accuracy: 0.9900\n",
      "Epoch 9/10\n",
      "369/369 [==============================] - 0s 364us/step - loss: 0.0669 - accuracy: 0.9837 - val_loss: 0.0570 - val_accuracy: 0.9850\n",
      "Epoch 10/10\n",
      "369/369 [==============================] - 0s 361us/step - loss: 0.0635 - accuracy: 0.9864 - val_loss: 0.0557 - val_accuracy: 0.9900\n"
     ]
    },
    {
     "data": {
      "text/plain": [
       "<keras.callbacks.callbacks.History at 0x13de3026588>"
      ]
     },
     "execution_count": 72,
     "metadata": {},
     "output_type": "execute_result"
    }
   ],
   "source": [
    "classifier = Sequential()\n",
    "\n",
    "\n",
    "classifier.add(Dense(units = 15, kernel_initializer = 'uniform', activation = 'tanh', input_dim = 30))\n",
    "\n",
    "\n",
    "classifier.add(Dense(units =20, kernel_initializer = 'uniform', activation = 'tanh'))\n",
    "\n",
    "\n",
    "classifier.add(Dense(units =20, kernel_initializer = 'uniform', activation = 'tanh'))\n",
    "\n",
    "\n",
    "classifier.add(Dense(units = 1, kernel_initializer = 'uniform', activation = 'sigmoid'))\n",
    "\n",
    "\n",
    "classifier.compile(optimizer = 'adam', loss = 'binary_crossentropy', metrics = ['accuracy'])\n",
    "\n",
    "# Fitting the ANN to the Training set\n",
    "classifier.fit(X_train, y_train, batch_size = 10, epochs = 10,validation_data=(X_test, y_test))"
   ]
  },
  {
   "cell_type": "code",
   "execution_count": null,
   "metadata": {},
   "outputs": [],
   "source": []
  }
 ],
 "metadata": {
  "kernelspec": {
   "display_name": "Python 3",
   "language": "python",
   "name": "python3"
  },
  "language_info": {
   "codemirror_mode": {
    "name": "ipython",
    "version": 3
   },
   "file_extension": ".py",
   "mimetype": "text/x-python",
   "name": "python",
   "nbconvert_exporter": "python",
   "pygments_lexer": "ipython3",
   "version": "3.7.4"
  }
 },
 "nbformat": 4,
 "nbformat_minor": 2
}
