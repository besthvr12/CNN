{
 "cells": [
  {
   "cell_type": "code",
   "execution_count": 64,
   "metadata": {},
   "outputs": [],
   "source": [
    "#Loading the libraries\n",
    "\n",
    "from keras.datasets import fashion_mnist\n",
    "from keras.utils import to_categorical\n",
    "from keras.models import Sequential\n",
    "from keras.layers import Conv2D\n",
    "from keras.layers import MaxPooling2D\n",
    "from keras.layers import Dense\n",
    "from keras.layers import Flatten\n",
    "from keras.optimizers import SGD\n",
    " "
   ]
  },
  {
   "cell_type": "code",
   "execution_count": 66,
   "metadata": {},
   "outputs": [],
   "source": [
    "\n",
    "#Loading Fashion Mnist Dataset\n",
    "(X_train, Y_train), (X_test, Y_test) = fashion_mnist.load_data()\n",
    "\n",
    "\n"
   ]
  },
  {
   "cell_type": "code",
   "execution_count": 67,
   "metadata": {},
   "outputs": [
    {
     "name": "stdout",
     "output_type": "stream",
     "text": [
      "(60000, 28, 28) (60000,)\n",
      "(10000, 28, 28) (10000,)\n"
     ]
    }
   ],
   "source": [
    "print(X_train.shape,Y_train.shape)\n",
    "print(X_test.shape,Y_test.shape)"
   ]
  },
  {
   "cell_type": "code",
   "execution_count": 69,
   "metadata": {},
   "outputs": [],
   "source": [
    "Y_train = to_categorical(Y_train)\n",
    "Y_test =to_categorical(Y_test)\n"
   ]
  },
  {
   "cell_type": "code",
   "execution_count": 70,
   "metadata": {},
   "outputs": [],
   "source": [
    "X_train = X_train.reshape((trainX.shape[0], 28, 28, 1))\n",
    "X_test = X_test.reshape((testX.shape[0], 28, 28, 1))"
   ]
  },
  {
   "cell_type": "code",
   "execution_count": 74,
   "metadata": {},
   "outputs": [],
   "source": [
    "X_train= X_train.astype('float32')\n",
    "X_test = X_test.astype('float32')\n",
    "# normalize to range 0-1\n",
    "X_train = train_norm / 255.0\n",
    "X_test = test_norm / 255.0"
   ]
  },
  {
   "cell_type": "code",
   "execution_count": 75,
   "metadata": {},
   "outputs": [],
   "source": [
    "classifier = Sequential()\n",
    "#Adding 1st Convolution layer\n",
    "classifier.add(Conv2D(64, (3, 3), activation='relu', kernel_initializer='he_uniform', input_shape=(28, 28, 1)))\n",
    "classifier.add(MaxPooling2D((2, 2)))\n",
    "#Adding 2nd Convolution layer\n",
    "classifier.add(Conv2D(64, (3, 3), activation='relu', kernel_initializer='he_uniform'))\n",
    "classifier.add(MaxPooling2D((2, 2)))\n",
    "classifier.add(Flatten())\n",
    "classifier.add(Dense(100, activation='relu', kernel_initializer='he_uniform'))\n",
    "classifier.add(Dense(10, activation='softmax'))\n",
    "opt = SGD(lr=0.01, momentum=0.9)\n",
    "classifier.compile(optimizer=opt, loss='categorical_crossentropy', metrics=['accuracy'])"
   ]
  },
  {
   "cell_type": "code",
   "execution_count": 76,
   "metadata": {},
   "outputs": [
    {
     "name": "stdout",
     "output_type": "stream",
     "text": [
      "Train on 60000 samples, validate on 10000 samples\n",
      "Epoch 1/10\n",
      "60000/60000 [==============================] - 80s 1ms/step - loss: 0.4731 - accuracy: 0.8268 - val_loss: 0.3812 - val_accuracy: 0.8592\n",
      "Epoch 2/10\n",
      "60000/60000 [==============================] - 80s 1ms/step - loss: 0.3146 - accuracy: 0.8835 - val_loss: 0.3279 - val_accuracy: 0.8792\n",
      "Epoch 3/10\n",
      "60000/60000 [==============================] - 80s 1ms/step - loss: 0.2715 - accuracy: 0.8983 - val_loss: 0.2874 - val_accuracy: 0.8947\n",
      "Epoch 4/10\n",
      "60000/60000 [==============================] - 80s 1ms/step - loss: 0.2479 - accuracy: 0.9080 - val_loss: 0.2965 - val_accuracy: 0.8936\n",
      "Epoch 5/10\n",
      "60000/60000 [==============================] - 81s 1ms/step - loss: 0.2256 - accuracy: 0.9152 - val_loss: 0.2764 - val_accuracy: 0.8950\n",
      "Epoch 6/10\n",
      "60000/60000 [==============================] - 81s 1ms/step - loss: 0.2097 - accuracy: 0.9218 - val_loss: 0.2725 - val_accuracy: 0.9016\n",
      "Epoch 7/10\n",
      "60000/60000 [==============================] - 81s 1ms/step - loss: 0.1911 - accuracy: 0.9277 - val_loss: 0.2846 - val_accuracy: 0.8964\n",
      "Epoch 8/10\n",
      "60000/60000 [==============================] - 81s 1ms/step - loss: 0.1788 - accuracy: 0.9327 - val_loss: 0.2699 - val_accuracy: 0.9027\n",
      "Epoch 9/10\n",
      "60000/60000 [==============================] - 81s 1ms/step - loss: 0.1658 - accuracy: 0.9372 - val_loss: 0.3022 - val_accuracy: 0.9004\n",
      "Epoch 10/10\n",
      "60000/60000 [==============================] - 81s 1ms/step - loss: 0.1550 - accuracy: 0.9417 - val_loss: 0.2935 - val_accuracy: 0.9033\n"
     ]
    },
    {
     "data": {
      "text/plain": [
       "<keras.callbacks.callbacks.History at 0x7f4466fb6b70>"
      ]
     },
     "execution_count": 76,
     "metadata": {},
     "output_type": "execute_result"
    }
   ],
   "source": [
    "classifier.fit(train_norm,Y_train,epochs=10,batch_size=32, validation_data=(test_norm, Y_test))"
   ]
  },
  {
   "cell_type": "code",
   "execution_count": null,
   "metadata": {},
   "outputs": [],
   "source": []
  }
 ],
 "metadata": {
  "kernelspec": {
   "display_name": "Python 3",
   "language": "python",
   "name": "python3"
  },
  "language_info": {
   "codemirror_mode": {
    "name": "ipython",
    "version": 3
   },
   "file_extension": ".py",
   "mimetype": "text/x-python",
   "name": "python",
   "nbconvert_exporter": "python",
   "pygments_lexer": "ipython3",
   "version": "3.5.3"
  }
 },
 "nbformat": 4,
 "nbformat_minor": 2
}
